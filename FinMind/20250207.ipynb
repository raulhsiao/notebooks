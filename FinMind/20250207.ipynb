{
 "cells": [
  {
   "cell_type": "code",
   "execution_count": 5,
   "id": "89956d42-0c6c-4419-94c8-52ab38c6d129",
   "metadata": {},
   "outputs": [],
   "source": [
    "import time\n",
    "import sys,os\n",
    "import requests\n",
    "import numpy as np\n",
    "import pandas as pd\n",
    "from ta.momentum import StochasticOscillator\n",
    "\n",
    "from FinMind import strategies\n",
    "from FinMind.data import DataLoader\n",
    "from FinMind.strategies.base import Strategy\n",
    "from FinMind.data import FinMindApi\n",
    "\n",
    "\n",
    "stock_id_ignored = ['0054', '0058', '0059', '0060', '00625K', '00643K', '00649', '00658L', '00659R', '00667', '00672L', '00677U', '00691R', '00698L', '00699R', '00704L', '00705R', '00716R', '00729R', '00732', '00742', '00743', '00766L', '00767', '00774B', '00774C', '00776', '0080', '0081', '008201', '00866', '00906', '00938', '00943', '00944', '00945B', '00946', '00947', '00949', '00951', '00952', '00953B', '00954', '00956', '00960', '00961', '00963', '00964', '00965']\n",
    "stock_id_available = ['0050', '0051', '0052', '0053', '0055', '0056', '0057', '0061', '006203', '006204', '006205', '006206', '006207', '006208', '00631L', '00632R', '00633L', '00634R', '00635U', '00636', '00636K', '00637L', '00638R', '00639', '00640L', '00641R', '00642U', '00643', '00645', '00646', '00647L', '00648R', '00650L', '00651R', '00652', '00653L', '00654R', '00655L', '00656R', '00657', '00657K', '00660', '00661', '00662', '00663L', '00664R', '00665L', '00666R', '00668', '00668K', '00669R', '00670L', '00671R', '00673R', '00674R', '00675L', '00676R', '00678', '00680L', '00681R', '00682U', '00683L', '00684R', '00685L', '00686R', '00688L', '00689R', '00690', '00692', '00693U', '00700', '00701', '00702', '00703', '00706L', '00707R', '00708L', '00709', '00710B', '00711B', '00712', '00713', '00714', '00715L', '00717', '00728', '00730', '00731', '00733', '00735', '00736', '00737', '00738U', '00739', '00752', '00753L', '00757', '00762', '00763U', '00770', '00771', '00775B', '00783', '00830', '00850', '00851', '00852L', '00861', '00865B', '00875', '00876', '00878', '00881', '00882', '00885', '00891', '00892', '00893', '00894', '00895', '00896', '00897', '00898', '00899', '00900', '00901', '00902', '00903', '00904', '00905', '00907', '00908', '00909', '00910', '00911', '00912', '00913', '00915', '00916', '00917', '00918', '00919', '00920', '00921', '00922', '00923', '00924', '00925', '00926', '00927', '00929', '00930', '00932', '00934', '00935', '00936', '00939', '00940', '00941']"
   ]
  },
  {
   "cell_type": "code",
   "execution_count": 6,
   "id": "f82f7d5c-81cd-41e0-8089-f05556ec1ddc",
   "metadata": {},
   "outputs": [
    {
     "name": "stdout",
     "output_type": "stream",
     "text": [
      "token length:199\n",
      "使用次數: 0\n",
      "api 使用上限 6000\n",
      "200\n",
      "{'msg': 'success', 'status': 200, 'email_verify': True, 'user_id': 'raulhsiao', 'email': 'raulhsiao@gmail.com', 'level': 3, 'end_date': '', 'user_count': 0, 'api_request_limit': 6000, 'api_request_limit_hour': 6000, 'api_request_limit_day': '-', 'level_title': 'Sponsor', 'is_old_user': 0, 'BackerInfo': {'subscription_begin_date': '', 'subscription_expired_date': '', 'api_request_limit': 0, 'msg': '', 'status_code': 200}, 'SponsorInfo': {'subscription_begin_date': '2025-02-03', 'subscription_expired_date': '2025-03-04', 'api_request_limit': 6000, 'msg': '', 'status_code': 200}, 'SponsorProInfo': {'subscription_begin_date': '', 'subscription_expired_date': '', 'api_request_limit': 0, 'msg': '', 'status_code': 200}}\n"
     ]
    }
   ],
   "source": [
    "# update token from a file\n",
    "token_path = \"./token\"\n",
    "token = \"\"\n",
    "with open(token_path, \"r\") as fp:\n",
    "    token = fp.read()\n",
    "    token = token.replace(\"\\n\", \"\")\n",
    "if len(token) <= 100:\n",
    "    print(\"ERROR: need a token from FinMind\")\n",
    "print(f\"token length:{len(token)}\")\n",
    "\n",
    "# get account status\n",
    "url = \"https://api.web.finmindtrade.com/v2/user_info\"\n",
    "payload = {\n",
    "    \"token\": token+\"1\",\n",
    "}\n",
    "resp = requests.get(url, params=payload)\n",
    "print(\"使用次數:\", resp.json()[\"user_count\"])  # 使用次數\n",
    "print(\"api 使用上限\", resp.json()[\"api_request_limit\"])  # api 使用上限\n",
    "print(resp.status_code)\n",
    "print(resp.json())\n",
    "dfs = []"
   ]
  },
  {
   "cell_type": "code",
   "execution_count": 7,
   "id": "1bad7f35-7e4f-449a-b572-77281219f946",
   "metadata": {},
   "outputs": [
    {
     "name": "stderr",
     "output_type": "stream",
     "text": [
      "\u001b[32m2025-02-12 13:07:31.182\u001b[0m | \u001b[1mINFO    \u001b[0m | \u001b[36mFinMind.data.finmind_api\u001b[0m:\u001b[36mget_data\u001b[0m:\u001b[36m148\u001b[0m - \u001b[1mdownload Dataset.TaiwanStockTradingDailyReport, data_id: 0056\u001b[0m\n"
     ]
    }
   ],
   "source": [
    "from FinMind.data import DataLoader\n",
    "\n",
    "api = DataLoader()\n",
    "api.login_by_token(api_token=token)\n",
    "# api.login(user_id='user_id',password='password')\n",
    "df = api.taiwan_stock_trading_daily_report(\n",
    "    stock_id=\"0056\",\n",
    "    date='2025-02-03',\n",
    ")\n",
    "dfs.append(df)"
   ]
  },
  {
   "cell_type": "code",
   "execution_count": 8,
   "id": "461ce4b5-e2f5-4614-90a7-0d9d663dbad9",
   "metadata": {},
   "outputs": [
    {
     "name": "stderr",
     "output_type": "stream",
     "text": [
      "\u001b[32m2025-02-12 13:07:39.222\u001b[0m | \u001b[1mINFO    \u001b[0m | \u001b[36mFinMind.data.finmind_api\u001b[0m:\u001b[36mget_data\u001b[0m:\u001b[36m148\u001b[0m - \u001b[1mdownload Dataset.TaiwanStockGovernmentBankBuySell, data_id: \u001b[0m\n"
     ]
    }
   ],
   "source": [
    "from FinMind.data import DataLoader\n",
    "\n",
    "api = DataLoader()\n",
    "api.login_by_token(api_token=token)\n",
    "# api.login(user_id='user_id',password='password')\n",
    "df = api.taiwan_stock_government_bank_buy_sell(\n",
    "    start_date='2025-02-03',\n",
    ")\n",
    "dfs.append(df)"
   ]
  },
  {
   "cell_type": "code",
   "execution_count": 9,
   "id": "edbfaea6-4659-43f3-8660-3cc91a528850",
   "metadata": {},
   "outputs": [
    {
     "data": {
      "text/plain": [
       "[      securities_trader  price    buy  sell securities_trader_id stock_id  \\\n",
       " 0                    合庫  35.00  16000     0                 1020     0056   \n",
       " 1                    合庫  35.01   1000     0                 1020     0056   \n",
       " 2                    合庫  35.02   1000     0                 1020     0056   \n",
       " 3                    合庫  35.09   2000     0                 1020     0056   \n",
       " 4                    合庫  35.20   1000     0                 1020     0056   \n",
       " ...                 ...    ...    ...   ...                  ...      ...   \n",
       " 19875              永豐復興  35.37   1000     0                 9A9Z     0056   \n",
       " 19876              永豐復興  35.38   1000     0                 9A9Z     0056   \n",
       " 19877              永豐復興  35.40   1000  2000                 9A9Z     0056   \n",
       " 19878              永豐復興  35.42   1000     0                 9A9Z     0056   \n",
       " 19879              永豐復興  35.49    100     0                 9A9Z     0056   \n",
       " \n",
       "              date  \n",
       " 0      2025-02-03  \n",
       " 1      2025-02-03  \n",
       " 2      2025-02-03  \n",
       " 3      2025-02-03  \n",
       " 4      2025-02-03  \n",
       " ...           ...  \n",
       " 19875  2025-02-03  \n",
       " 19876  2025-02-03  \n",
       " 19877  2025-02-03  \n",
       " 19878  2025-02-03  \n",
       " 19879  2025-02-03  \n",
       " \n",
       " [19880 rows x 7 columns],\n",
       "              date stock_id    buy_amount  sell_amount      buy    sell  \\\n",
       " 0      2025-02-03     0050  3.016386e+08   24327648.6  1570629  126697   \n",
       " 1      2025-02-03     5508  2.600000e+04     271100.0      200    2100   \n",
       " 2      2025-02-03     5508  5.130000e+05          0.0     4000       0   \n",
       " 3      2025-02-03     5508  2.120696e+06    2051390.5    16481   15871   \n",
       " 4      2025-02-03     5508  1.403637e+06    2194000.0    11051   17000   \n",
       " ...           ...      ...           ...          ...      ...     ...   \n",
       " 12503  2025-02-03     2546  2.921655e+05     494000.0     4167    7060   \n",
       " 12504  2025-02-03     2546  2.107045e+05     771739.6     3010   11002   \n",
       " 12505  2025-02-03     2547  1.416450e+06     725160.5   133000   69001   \n",
       " 12506  2025-02-03     2543  2.934673e+07   50802867.4   360479  622258   \n",
       " 12507  2025-02-03     9962  1.405305e+04      14150.0     1007    1000   \n",
       " \n",
       "       bank_name  \n",
       " 0            兆豐  \n",
       " 1            土銀  \n",
       " 2            彰銀  \n",
       " 3            第一  \n",
       " 4            臺銀  \n",
       " ...         ...  \n",
       " 12503        臺銀  \n",
       " 12504        華南  \n",
       " 12505        兆豐  \n",
       " 12506        兆豐  \n",
       " 12507        華南  \n",
       " \n",
       " [12508 rows x 7 columns]]"
      ]
     },
     "execution_count": 9,
     "metadata": {},
     "output_type": "execute_result"
    }
   ],
   "source": [
    "dfs"
   ]
  },
  {
   "cell_type": "code",
   "execution_count": null,
   "id": "e8ce10c4-f101-480d-9f3b-273252e10b42",
   "metadata": {},
   "outputs": [],
   "source": []
  }
 ],
 "metadata": {
  "kernelspec": {
   "display_name": "Python 3 (ipykernel)",
   "language": "python",
   "name": "python3"
  },
  "language_info": {
   "codemirror_mode": {
    "name": "ipython",
    "version": 3
   },
   "file_extension": ".py",
   "mimetype": "text/x-python",
   "name": "python",
   "nbconvert_exporter": "python",
   "pygments_lexer": "ipython3",
   "version": "3.12.5"
  }
 },
 "nbformat": 4,
 "nbformat_minor": 5
}
