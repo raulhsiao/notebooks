{
 "cells": [
  {
   "cell_type": "code",
   "execution_count": 1,
   "id": "91ec46ae-a11a-45a0-9c92-548f2503157d",
   "metadata": {},
   "outputs": [],
   "source": [
    "import numpy as np\n",
    "import pandas as pd\n",
    "from ta.momentum import StochasticOscillator\n",
    "from FinMind import strategies\n",
    "from FinMind.data import DataLoader\n",
    "from FinMind.strategies.base import Strategy\n",
    "from FinMind.data import FinMindApi\n",
    "import time\n",
    "import sys,os\n",
    "import requests\n",
    "\n",
    "stock_id_ignored = ['0054', '0058', '0059', '0060', '00625K', '00643K', '00649', '00658L', '00659R', '00667', '00672L', '00677U', '00691R', '00698L', '00699R', '00704L', '00705R', '00716R', '00729R', '00732', '00742', '00743', '00766L', '00767', '00774B', '00774C', '00776', '0080', '0081', '008201', '00866', '00906', '00938', '00943', '00944', '00945B', '00946', '00947', '00949', '00951', '00952', '00953B', '00954', '00956', '00960', '00961', '00963', '00964', '00965']\n",
    "stock_id_available = ['0050', '0051', '0052', '0053', '0055', '0056', '0057', '0061', '006203', '006204', '006205', '006206', '006207', '006208', '00631L', '00632R', '00633L', '00634R', '00635U', '00636', '00636K', '00637L', '00638R', '00639', '00640L', '00641R', '00642U', '00643', '00645', '00646', '00647L', '00648R', '00650L', '00651R', '00652', '00653L', '00654R', '00655L', '00656R', '00657', '00657K', '00660', '00661', '00662', '00663L', '00664R', '00665L', '00666R', '00668', '00668K', '00669R', '00670L', '00671R', '00673R', '00674R', '00675L', '00676R', '00678', '00680L', '00681R', '00682U', '00683L', '00684R', '00685L', '00686R', '00688L', '00689R', '00690', '00692', '00693U', '00700', '00701', '00702', '00703', '00706L', '00707R', '00708L', '00709', '00710B', '00711B', '00712', '00713', '00714', '00715L', '00717', '00728', '00730', '00731', '00733', '00735', '00736', '00737', '00738U', '00739', '00752', '00753L', '00757', '00762', '00763U', '00770', '00771', '00775B', '00783', '00830', '00850', '00851', '00852L', '00861', '00865B', '00875', '00876', '00878', '00881', '00882', '00885', '00891', '00892', '00893', '00894', '00895', '00896', '00897', '00898', '00899', '00900', '00901', '00902', '00903', '00904', '00905', '00907', '00908', '00909', '00910', '00911', '00912', '00913', '00915', '00916', '00917', '00918', '00919', '00920', '00921', '00922', '00923', '00924', '00925', '00926', '00927', '00929', '00930', '00932', '00934', '00935', '00936', '00939', '00940', '00941']"
   ]
  },
  {
   "cell_type": "code",
   "execution_count": 2,
   "id": "c8fd3639-553c-4bd5-ba94-d8fede044625",
   "metadata": {},
   "outputs": [],
   "source": [
    "class Kd2(Strategy):\n",
    "    \"\"\"\n",
    "    url: \"https://www.mirrormedia.mg/story/20180719fin012/\"\n",
    "    summary:\n",
    "        網路上常見的 kd 交易策略\n",
    "        日KD 80 20\n",
    "        日K線 <= 20 進場\n",
    "        日K線 >= 80 出場\n",
    "    \"\"\"\n",
    "\n",
    "    k_days = 9\n",
    "    kd_upper = 80\n",
    "    kd_lower = 30\n",
    "\n",
    "    def create_trade_sign(self, stock_price: pd.DataFrame, additional_dataset_obj) -> pd.DataFrame:\n",
    "        stock_price = stock_price.sort_values(\"date\")\n",
    "        kd = StochasticOscillator(\n",
    "            high=stock_price[\"max\"],\n",
    "            low=stock_price[\"min\"],\n",
    "            close=stock_price[\"close\"],\n",
    "            n=self.k_days,\n",
    "        )\n",
    "        rsv_ = kd.stoch().fillna(50)\n",
    "        _k = np.zeros(stock_price.shape[0])\n",
    "        _d = np.zeros(stock_price.shape[0])\n",
    "        for i, r in enumerate(rsv_):\n",
    "            if i == 0:\n",
    "                _k[i] = 50\n",
    "                _d[i] = 50\n",
    "            else:\n",
    "                _k[i] = _k[i - 1] * 2 / 3 + r / 3\n",
    "                _d[i] = _d[i - 1] * 2 / 3 + _k[i] / 3\n",
    "\n",
    "        stock_price[\"K\"] = _k\n",
    "        stock_price[\"D\"] = _d\n",
    "        stock_price.index = range(len(stock_price))\n",
    "        stock_price[\"signal\"] = 0\n",
    "        stock_price.loc[stock_price[\"K\"] <= self.kd_lower, \"signal\"] = 1\n",
    "        stock_price.loc[stock_price[\"K\"] >= self.kd_upper, \"signal\"] = -1\n",
    "        return stock_price\n"
   ]
  },
  {
   "cell_type": "code",
   "execution_count": 3,
   "id": "5d534ef9-d2db-492e-852a-70927f703096",
   "metadata": {},
   "outputs": [
    {
     "name": "stdout",
     "output_type": "stream",
     "text": [
      "176\n",
      "使用次數: 0\n",
      "api 使用上限 600\n",
      "200\n",
      "{'msg': 'success', 'status': 200, 'email_verify': True, 'user_id': 'raulhsiao', 'email': 'raulhsiao@gmail.com', 'level': 1, 'end_date': '', 'user_count': 0, 'api_request_limit': 600, 'api_request_limit_hour': 600, 'api_request_limit_day': 600, 'level_title': 'Free', 'is_old_user': 0, 'BackerInfo': {'subscription_begin_date': '', 'subscription_expired_date': '', 'api_request_limit': 0, 'msg': '', 'status_code': 200}, 'SponsorInfo': {'subscription_begin_date': '', 'subscription_expired_date': '', 'api_request_limit': 0, 'msg': '', 'status_code': 200}, 'SponsorProInfo': {'subscription_begin_date': '', 'subscription_expired_date': '', 'api_request_limit': 0, 'msg': '', 'status_code': 200}}\n"
     ]
    }
   ],
   "source": [
    "# update token from a file\n",
    "token_path = \"./token\"\n",
    "token = \"\"\n",
    "with open(token_path, \"r\") as fp:\n",
    "    token = fp.read()\n",
    "    token = token.replace(\"\\n\", \"\")\n",
    "if len(token) <= 100:\n",
    "    print(\"ERROR: need a token from FinMind\")\n",
    "print(len(token))\n",
    "\n",
    "# get account status\n",
    "url = \"https://api.web.finmindtrade.com/v2/user_info\"\n",
    "payload = {\n",
    "    \"token\": token+\"1\",\n",
    "}\n",
    "resp = requests.get(url, params=payload)\n",
    "print(\"使用次數:\", resp.json()[\"user_count\"])  # 使用次數\n",
    "print(\"api 使用上限\", resp.json()[\"api_request_limit\"])  # api 使用上限\n",
    "print(resp.status_code)\n",
    "print(resp.json())\n"
   ]
  },
  {
   "cell_type": "code",
   "execution_count": 4,
   "id": "3cd6422d-8727-48c1-88e4-587ecfd1b94a",
   "metadata": {},
   "outputs": [
    {
     "name": "stderr",
     "output_type": "stream",
     "text": [
      "\u001b[32m2025-01-21 11:55:41.359\u001b[0m | \u001b[1mINFO    \u001b[0m | \u001b[36mFinMind.data.finmind_api\u001b[0m:\u001b[36mget_data\u001b[0m:\u001b[36m148\u001b[0m - \u001b[1mdownload Dataset.TaiwanStockInfo, data_id: \u001b[0m\n"
     ]
    },
    {
     "name": "stdout",
     "output_type": "stream",
     "text": [
      "600\n"
     ]
    },
    {
     "name": "stderr",
     "output_type": "stream",
     "text": [
      "\u001b[32m2025-01-21 11:55:41.969\u001b[0m | \u001b[1mINFO    \u001b[0m | \u001b[36mFinMind.data.finmind_api\u001b[0m:\u001b[36mget_data\u001b[0m:\u001b[36m148\u001b[0m - \u001b[1mdownload Dataset.TaiwanStockPrice, data_id: 0050\u001b[0m\n",
      "\u001b[32m2025-01-21 11:55:42.296\u001b[0m | \u001b[1mINFO    \u001b[0m | \u001b[36mFinMind.data.finmind_api\u001b[0m:\u001b[36mget_data\u001b[0m:\u001b[36m148\u001b[0m - \u001b[1mdownload Dataset.TaiwanStockPrice, data_id: 0051\u001b[0m\n",
      "\u001b[32m2025-01-21 11:55:42.532\u001b[0m | \u001b[1mINFO    \u001b[0m | \u001b[36mFinMind.data.finmind_api\u001b[0m:\u001b[36mget_data\u001b[0m:\u001b[36m148\u001b[0m - \u001b[1mdownload Dataset.TaiwanStockPrice, data_id: 0052\u001b[0m\n",
      "\u001b[32m2025-01-21 11:55:42.754\u001b[0m | \u001b[1mINFO    \u001b[0m | \u001b[36mFinMind.data.finmind_api\u001b[0m:\u001b[36mget_data\u001b[0m:\u001b[36m148\u001b[0m - \u001b[1mdownload Dataset.TaiwanStockPrice, data_id: 0053\u001b[0m\n",
      "\u001b[32m2025-01-21 11:55:42.977\u001b[0m | \u001b[1mINFO    \u001b[0m | \u001b[36mFinMind.data.finmind_api\u001b[0m:\u001b[36mget_data\u001b[0m:\u001b[36m148\u001b[0m - \u001b[1mdownload Dataset.TaiwanStockPrice, data_id: 0055\u001b[0m\n",
      "\u001b[32m2025-01-21 11:55:43.203\u001b[0m | \u001b[1mINFO    \u001b[0m | \u001b[36mFinMind.data.finmind_api\u001b[0m:\u001b[36mget_data\u001b[0m:\u001b[36m148\u001b[0m - \u001b[1mdownload Dataset.TaiwanStockPrice, data_id: 0056\u001b[0m\n",
      "\u001b[32m2025-01-21 11:55:43.399\u001b[0m | \u001b[1mINFO    \u001b[0m | \u001b[36mFinMind.data.finmind_api\u001b[0m:\u001b[36mget_data\u001b[0m:\u001b[36m148\u001b[0m - \u001b[1mdownload Dataset.TaiwanStockPrice, data_id: 0057\u001b[0m\n",
      "\u001b[32m2025-01-21 11:55:43.748\u001b[0m | \u001b[1mINFO    \u001b[0m | \u001b[36mFinMind.data.finmind_api\u001b[0m:\u001b[36mget_data\u001b[0m:\u001b[36m148\u001b[0m - \u001b[1mdownload Dataset.TaiwanStockPrice, data_id: 0061\u001b[0m\n",
      "\u001b[32m2025-01-21 11:55:44.097\u001b[0m | \u001b[1mINFO    \u001b[0m | \u001b[36mFinMind.data.finmind_api\u001b[0m:\u001b[36mget_data\u001b[0m:\u001b[36m148\u001b[0m - \u001b[1mdownload Dataset.TaiwanStockPrice, data_id: 006203\u001b[0m\n",
      "\u001b[32m2025-01-21 11:55:44.439\u001b[0m | \u001b[1mINFO    \u001b[0m | \u001b[36mFinMind.data.finmind_api\u001b[0m:\u001b[36mget_data\u001b[0m:\u001b[36m148\u001b[0m - \u001b[1mdownload Dataset.TaiwanStockPrice, data_id: 006204\u001b[0m\n",
      "\u001b[32m2025-01-21 11:55:44.671\u001b[0m | \u001b[1mINFO    \u001b[0m | \u001b[36mFinMind.data.finmind_api\u001b[0m:\u001b[36mget_data\u001b[0m:\u001b[36m148\u001b[0m - \u001b[1mdownload Dataset.TaiwanStockPrice, data_id: 006205\u001b[0m\n",
      "\u001b[32m2025-01-21 11:55:45.015\u001b[0m | \u001b[1mINFO    \u001b[0m | \u001b[36mFinMind.data.finmind_api\u001b[0m:\u001b[36mget_data\u001b[0m:\u001b[36m148\u001b[0m - \u001b[1mdownload Dataset.TaiwanStockPrice, data_id: 006206\u001b[0m\n",
      "\u001b[32m2025-01-21 11:55:45.227\u001b[0m | \u001b[1mINFO    \u001b[0m | \u001b[36mFinMind.data.finmind_api\u001b[0m:\u001b[36mget_data\u001b[0m:\u001b[36m148\u001b[0m - \u001b[1mdownload Dataset.TaiwanStockPrice, data_id: 006207\u001b[0m\n",
      "\u001b[32m2025-01-21 11:55:45.574\u001b[0m | \u001b[1mINFO    \u001b[0m | \u001b[36mFinMind.data.finmind_api\u001b[0m:\u001b[36mget_data\u001b[0m:\u001b[36m148\u001b[0m - \u001b[1mdownload Dataset.TaiwanStockPrice, data_id: 006208\u001b[0m\n",
      "\u001b[32m2025-01-21 11:55:45.908\u001b[0m | \u001b[1mINFO    \u001b[0m | \u001b[36mFinMind.data.finmind_api\u001b[0m:\u001b[36mget_data\u001b[0m:\u001b[36m148\u001b[0m - \u001b[1mdownload Dataset.TaiwanStockPrice, data_id: 00631L\u001b[0m\n",
      "\u001b[32m2025-01-21 11:55:46.244\u001b[0m | \u001b[1mINFO    \u001b[0m | \u001b[36mFinMind.data.finmind_api\u001b[0m:\u001b[36mget_data\u001b[0m:\u001b[36m148\u001b[0m - \u001b[1mdownload Dataset.TaiwanStockPrice, data_id: 00632R\u001b[0m\n",
      "\u001b[32m2025-01-21 11:55:46.463\u001b[0m | \u001b[1mINFO    \u001b[0m | \u001b[36mFinMind.data.finmind_api\u001b[0m:\u001b[36mget_data\u001b[0m:\u001b[36m148\u001b[0m - \u001b[1mdownload Dataset.TaiwanStockPrice, data_id: 00633L\u001b[0m\n",
      "\u001b[32m2025-01-21 11:55:46.683\u001b[0m | \u001b[1mINFO    \u001b[0m | \u001b[36mFinMind.data.finmind_api\u001b[0m:\u001b[36mget_data\u001b[0m:\u001b[36m148\u001b[0m - \u001b[1mdownload Dataset.TaiwanStockPrice, data_id: 00634R\u001b[0m\n",
      "\u001b[32m2025-01-21 11:55:46.900\u001b[0m | \u001b[1mINFO    \u001b[0m | \u001b[36mFinMind.data.finmind_api\u001b[0m:\u001b[36mget_data\u001b[0m:\u001b[36m148\u001b[0m - \u001b[1mdownload Dataset.TaiwanStockPrice, data_id: 00635U\u001b[0m\n",
      "\u001b[32m2025-01-21 11:55:47.100\u001b[0m | \u001b[1mINFO    \u001b[0m | \u001b[36mFinMind.data.finmind_api\u001b[0m:\u001b[36mget_data\u001b[0m:\u001b[36m148\u001b[0m - \u001b[1mdownload Dataset.TaiwanStockPrice, data_id: 00636\u001b[0m\n",
      "\u001b[32m2025-01-21 11:55:47.333\u001b[0m | \u001b[1mINFO    \u001b[0m | \u001b[36mFinMind.data.finmind_api\u001b[0m:\u001b[36mget_data\u001b[0m:\u001b[36m148\u001b[0m - \u001b[1mdownload Dataset.TaiwanStockPrice, data_id: 00636K\u001b[0m\n",
      "\u001b[32m2025-01-21 11:55:47.659\u001b[0m | \u001b[1mINFO    \u001b[0m | \u001b[36mFinMind.data.finmind_api\u001b[0m:\u001b[36mget_data\u001b[0m:\u001b[36m148\u001b[0m - \u001b[1mdownload Dataset.TaiwanStockPrice, data_id: 00637L\u001b[0m\n",
      "\u001b[32m2025-01-21 11:55:47.855\u001b[0m | \u001b[1mINFO    \u001b[0m | \u001b[36mFinMind.data.finmind_api\u001b[0m:\u001b[36mget_data\u001b[0m:\u001b[36m148\u001b[0m - \u001b[1mdownload Dataset.TaiwanStockPrice, data_id: 00638R\u001b[0m\n",
      "\u001b[32m2025-01-21 11:55:48.082\u001b[0m | \u001b[1mINFO    \u001b[0m | \u001b[36mFinMind.data.finmind_api\u001b[0m:\u001b[36mget_data\u001b[0m:\u001b[36m148\u001b[0m - \u001b[1mdownload Dataset.TaiwanStockPrice, data_id: 00639\u001b[0m\n",
      "\u001b[32m2025-01-21 11:55:48.431\u001b[0m | \u001b[1mINFO    \u001b[0m | \u001b[36mFinMind.data.finmind_api\u001b[0m:\u001b[36mget_data\u001b[0m:\u001b[36m148\u001b[0m - \u001b[1mdownload Dataset.TaiwanStockPrice, data_id: 00640L\u001b[0m\n",
      "\u001b[32m2025-01-21 11:55:48.647\u001b[0m | \u001b[1mINFO    \u001b[0m | \u001b[36mFinMind.data.finmind_api\u001b[0m:\u001b[36mget_data\u001b[0m:\u001b[36m148\u001b[0m - \u001b[1mdownload Dataset.TaiwanStockPrice, data_id: 00641R\u001b[0m\n",
      "\u001b[32m2025-01-21 11:55:48.841\u001b[0m | \u001b[1mINFO    \u001b[0m | \u001b[36mFinMind.data.finmind_api\u001b[0m:\u001b[36mget_data\u001b[0m:\u001b[36m148\u001b[0m - \u001b[1mdownload Dataset.TaiwanStockPrice, data_id: 00642U\u001b[0m\n",
      "\u001b[32m2025-01-21 11:55:49.050\u001b[0m | \u001b[1mINFO    \u001b[0m | \u001b[36mFinMind.data.finmind_api\u001b[0m:\u001b[36mget_data\u001b[0m:\u001b[36m148\u001b[0m - \u001b[1mdownload Dataset.TaiwanStockPrice, data_id: 00643\u001b[0m\n",
      "\u001b[32m2025-01-21 11:55:49.432\u001b[0m | \u001b[1mINFO    \u001b[0m | \u001b[36mFinMind.data.finmind_api\u001b[0m:\u001b[36mget_data\u001b[0m:\u001b[36m148\u001b[0m - \u001b[1mdownload Dataset.TaiwanStockPrice, data_id: 00645\u001b[0m\n",
      "\u001b[32m2025-01-21 11:55:49.637\u001b[0m | \u001b[1mINFO    \u001b[0m | \u001b[36mFinMind.data.finmind_api\u001b[0m:\u001b[36mget_data\u001b[0m:\u001b[36m148\u001b[0m - \u001b[1mdownload Dataset.TaiwanStockPrice, data_id: 00646\u001b[0m\n",
      "\u001b[32m2025-01-21 11:55:49.984\u001b[0m | \u001b[1mINFO    \u001b[0m | \u001b[36mFinMind.data.finmind_api\u001b[0m:\u001b[36mget_data\u001b[0m:\u001b[36m148\u001b[0m - \u001b[1mdownload Dataset.TaiwanStockPrice, data_id: 00647L\u001b[0m\n",
      "\u001b[32m2025-01-21 11:55:50.312\u001b[0m | \u001b[1mINFO    \u001b[0m | \u001b[36mFinMind.data.finmind_api\u001b[0m:\u001b[36mget_data\u001b[0m:\u001b[36m148\u001b[0m - \u001b[1mdownload Dataset.TaiwanStockPrice, data_id: 00648R\u001b[0m\n",
      "\u001b[32m2025-01-21 11:55:50.646\u001b[0m | \u001b[1mINFO    \u001b[0m | \u001b[36mFinMind.data.finmind_api\u001b[0m:\u001b[36mget_data\u001b[0m:\u001b[36m148\u001b[0m - \u001b[1mdownload Dataset.TaiwanStockPrice, data_id: 00650L\u001b[0m\n",
      "\u001b[32m2025-01-21 11:55:51.025\u001b[0m | \u001b[1mINFO    \u001b[0m | \u001b[36mFinMind.data.finmind_api\u001b[0m:\u001b[36mget_data\u001b[0m:\u001b[36m148\u001b[0m - \u001b[1mdownload Dataset.TaiwanStockPrice, data_id: 00651R\u001b[0m\n",
      "\u001b[32m2025-01-21 11:55:51.246\u001b[0m | \u001b[1mINFO    \u001b[0m | \u001b[36mFinMind.data.finmind_api\u001b[0m:\u001b[36mget_data\u001b[0m:\u001b[36m148\u001b[0m - \u001b[1mdownload Dataset.TaiwanStockPrice, data_id: 00652\u001b[0m\n",
      "\u001b[32m2025-01-21 11:55:51.461\u001b[0m | \u001b[1mINFO    \u001b[0m | \u001b[36mFinMind.data.finmind_api\u001b[0m:\u001b[36mget_data\u001b[0m:\u001b[36m148\u001b[0m - \u001b[1mdownload Dataset.TaiwanStockPrice, data_id: 00653L\u001b[0m\n",
      "\u001b[32m2025-01-21 11:55:51.698\u001b[0m | \u001b[1mINFO    \u001b[0m | \u001b[36mFinMind.data.finmind_api\u001b[0m:\u001b[36mget_data\u001b[0m:\u001b[36m148\u001b[0m - \u001b[1mdownload Dataset.TaiwanStockPrice, data_id: 00654R\u001b[0m\n",
      "\u001b[32m2025-01-21 11:55:52.044\u001b[0m | \u001b[1mINFO    \u001b[0m | \u001b[36mFinMind.data.finmind_api\u001b[0m:\u001b[36mget_data\u001b[0m:\u001b[36m148\u001b[0m - \u001b[1mdownload Dataset.TaiwanStockPrice, data_id: 00655L\u001b[0m\n",
      "\u001b[32m2025-01-21 11:55:52.398\u001b[0m | \u001b[1mINFO    \u001b[0m | \u001b[36mFinMind.data.finmind_api\u001b[0m:\u001b[36mget_data\u001b[0m:\u001b[36m148\u001b[0m - \u001b[1mdownload Dataset.TaiwanStockPrice, data_id: 00656R\u001b[0m\n",
      "\u001b[32m2025-01-21 11:55:52.751\u001b[0m | \u001b[1mINFO    \u001b[0m | \u001b[36mFinMind.data.finmind_api\u001b[0m:\u001b[36mget_data\u001b[0m:\u001b[36m148\u001b[0m - \u001b[1mdownload Dataset.TaiwanStockPrice, data_id: 00657\u001b[0m\n",
      "\u001b[32m2025-01-21 11:55:53.095\u001b[0m | \u001b[1mINFO    \u001b[0m | \u001b[36mFinMind.data.finmind_api\u001b[0m:\u001b[36mget_data\u001b[0m:\u001b[36m148\u001b[0m - \u001b[1mdownload Dataset.TaiwanStockPrice, data_id: 00657K\u001b[0m\n",
      "\u001b[32m2025-01-21 11:55:53.306\u001b[0m | \u001b[1mINFO    \u001b[0m | \u001b[36mFinMind.data.finmind_api\u001b[0m:\u001b[36mget_data\u001b[0m:\u001b[36m148\u001b[0m - \u001b[1mdownload Dataset.TaiwanStockPrice, data_id: 00660\u001b[0m\n",
      "\u001b[32m2025-01-21 11:55:53.524\u001b[0m | \u001b[1mINFO    \u001b[0m | \u001b[36mFinMind.data.finmind_api\u001b[0m:\u001b[36mget_data\u001b[0m:\u001b[36m148\u001b[0m - \u001b[1mdownload Dataset.TaiwanStockPrice, data_id: 00661\u001b[0m\n",
      "\u001b[32m2025-01-21 11:55:53.750\u001b[0m | \u001b[1mINFO    \u001b[0m | \u001b[36mFinMind.data.finmind_api\u001b[0m:\u001b[36mget_data\u001b[0m:\u001b[36m148\u001b[0m - \u001b[1mdownload Dataset.TaiwanStockPrice, data_id: 00662\u001b[0m\n",
      "\u001b[32m2025-01-21 11:55:54.116\u001b[0m | \u001b[1mINFO    \u001b[0m | \u001b[36mFinMind.data.finmind_api\u001b[0m:\u001b[36mget_data\u001b[0m:\u001b[36m148\u001b[0m - \u001b[1mdownload Dataset.TaiwanStockPrice, data_id: 00663L\u001b[0m\n",
      "\u001b[32m2025-01-21 11:55:54.465\u001b[0m | \u001b[1mINFO    \u001b[0m | \u001b[36mFinMind.data.finmind_api\u001b[0m:\u001b[36mget_data\u001b[0m:\u001b[36m148\u001b[0m - \u001b[1mdownload Dataset.TaiwanStockPrice, data_id: 00664R\u001b[0m\n",
      "\u001b[32m2025-01-21 11:55:54.807\u001b[0m | \u001b[1mINFO    \u001b[0m | \u001b[36mFinMind.data.finmind_api\u001b[0m:\u001b[36mget_data\u001b[0m:\u001b[36m148\u001b[0m - \u001b[1mdownload Dataset.TaiwanStockPrice, data_id: 00665L\u001b[0m\n",
      "\u001b[32m2025-01-21 11:55:55.036\u001b[0m | \u001b[1mINFO    \u001b[0m | \u001b[36mFinMind.data.finmind_api\u001b[0m:\u001b[36mget_data\u001b[0m:\u001b[36m148\u001b[0m - \u001b[1mdownload Dataset.TaiwanStockPrice, data_id: 00666R\u001b[0m\n",
      "\u001b[32m2025-01-21 11:55:55.370\u001b[0m | \u001b[1mINFO    \u001b[0m | \u001b[36mFinMind.data.finmind_api\u001b[0m:\u001b[36mget_data\u001b[0m:\u001b[36m148\u001b[0m - \u001b[1mdownload Dataset.TaiwanStockPrice, data_id: 00668\u001b[0m\n",
      "\u001b[32m2025-01-21 11:55:55.996\u001b[0m | \u001b[1mINFO    \u001b[0m | \u001b[36mFinMind.data.finmind_api\u001b[0m:\u001b[36mget_data\u001b[0m:\u001b[36m148\u001b[0m - \u001b[1mdownload Dataset.TaiwanStockPrice, data_id: 00668K\u001b[0m\n",
      "\u001b[32m2025-01-21 11:55:56.204\u001b[0m | \u001b[1mINFO    \u001b[0m | \u001b[36mFinMind.data.finmind_api\u001b[0m:\u001b[36mget_data\u001b[0m:\u001b[36m148\u001b[0m - \u001b[1mdownload Dataset.TaiwanStockPrice, data_id: 00669R\u001b[0m\n",
      "\u001b[32m2025-01-21 11:55:56.397\u001b[0m | \u001b[1mINFO    \u001b[0m | \u001b[36mFinMind.data.finmind_api\u001b[0m:\u001b[36mget_data\u001b[0m:\u001b[36m148\u001b[0m - \u001b[1mdownload Dataset.TaiwanStockPrice, data_id: 00670L\u001b[0m\n",
      "\u001b[32m2025-01-21 11:55:56.599\u001b[0m | \u001b[1mINFO    \u001b[0m | \u001b[36mFinMind.data.finmind_api\u001b[0m:\u001b[36mget_data\u001b[0m:\u001b[36m148\u001b[0m - \u001b[1mdownload Dataset.TaiwanStockPrice, data_id: 00671R\u001b[0m\n",
      "\u001b[32m2025-01-21 11:55:56.806\u001b[0m | \u001b[1mINFO    \u001b[0m | \u001b[36mFinMind.data.finmind_api\u001b[0m:\u001b[36mget_data\u001b[0m:\u001b[36m148\u001b[0m - \u001b[1mdownload Dataset.TaiwanStockPrice, data_id: 00673R\u001b[0m\n",
      "\u001b[32m2025-01-21 11:55:57.155\u001b[0m | \u001b[1mINFO    \u001b[0m | \u001b[36mFinMind.data.finmind_api\u001b[0m:\u001b[36mget_data\u001b[0m:\u001b[36m148\u001b[0m - \u001b[1mdownload Dataset.TaiwanStockPrice, data_id: 00674R\u001b[0m\n",
      "\u001b[32m2025-01-21 11:55:57.380\u001b[0m | \u001b[1mINFO    \u001b[0m | \u001b[36mFinMind.data.finmind_api\u001b[0m:\u001b[36mget_data\u001b[0m:\u001b[36m148\u001b[0m - \u001b[1mdownload Dataset.TaiwanStockPrice, data_id: 00675L\u001b[0m\n",
      "\u001b[32m2025-01-21 11:55:57.585\u001b[0m | \u001b[1mINFO    \u001b[0m | \u001b[36mFinMind.data.finmind_api\u001b[0m:\u001b[36mget_data\u001b[0m:\u001b[36m148\u001b[0m - \u001b[1mdownload Dataset.TaiwanStockPrice, data_id: 00676R\u001b[0m\n",
      "\u001b[32m2025-01-21 11:55:57.782\u001b[0m | \u001b[1mINFO    \u001b[0m | \u001b[36mFinMind.data.finmind_api\u001b[0m:\u001b[36mget_data\u001b[0m:\u001b[36m148\u001b[0m - \u001b[1mdownload Dataset.TaiwanStockPrice, data_id: 00678\u001b[0m\n",
      "\u001b[32m2025-01-21 11:55:58.130\u001b[0m | \u001b[1mINFO    \u001b[0m | \u001b[36mFinMind.data.finmind_api\u001b[0m:\u001b[36mget_data\u001b[0m:\u001b[36m148\u001b[0m - \u001b[1mdownload Dataset.TaiwanStockPrice, data_id: 00680L\u001b[0m\n",
      "\u001b[32m2025-01-21 11:55:58.473\u001b[0m | \u001b[1mINFO    \u001b[0m | \u001b[36mFinMind.data.finmind_api\u001b[0m:\u001b[36mget_data\u001b[0m:\u001b[36m148\u001b[0m - \u001b[1mdownload Dataset.TaiwanStockPrice, data_id: 00681R\u001b[0m\n",
      "\u001b[32m2025-01-21 11:55:58.685\u001b[0m | \u001b[1mINFO    \u001b[0m | \u001b[36mFinMind.data.finmind_api\u001b[0m:\u001b[36mget_data\u001b[0m:\u001b[36m148\u001b[0m - \u001b[1mdownload Dataset.TaiwanStockPrice, data_id: 00682U\u001b[0m\n",
      "\u001b[32m2025-01-21 11:55:59.039\u001b[0m | \u001b[1mINFO    \u001b[0m | \u001b[36mFinMind.data.finmind_api\u001b[0m:\u001b[36mget_data\u001b[0m:\u001b[36m148\u001b[0m - \u001b[1mdownload Dataset.TaiwanStockPrice, data_id: 00683L\u001b[0m\n",
      "\u001b[32m2025-01-21 11:55:59.260\u001b[0m | \u001b[1mINFO    \u001b[0m | \u001b[36mFinMind.data.finmind_api\u001b[0m:\u001b[36mget_data\u001b[0m:\u001b[36m148\u001b[0m - \u001b[1mdownload Dataset.TaiwanStockPrice, data_id: 00684R\u001b[0m\n",
      "\u001b[32m2025-01-21 11:55:59.497\u001b[0m | \u001b[1mINFO    \u001b[0m | \u001b[36mFinMind.data.finmind_api\u001b[0m:\u001b[36mget_data\u001b[0m:\u001b[36m148\u001b[0m - \u001b[1mdownload Dataset.TaiwanStockPrice, data_id: 00685L\u001b[0m\n",
      "\u001b[32m2025-01-21 11:55:59.726\u001b[0m | \u001b[1mINFO    \u001b[0m | \u001b[36mFinMind.data.finmind_api\u001b[0m:\u001b[36mget_data\u001b[0m:\u001b[36m148\u001b[0m - \u001b[1mdownload Dataset.TaiwanStockPrice, data_id: 00686R\u001b[0m\n",
      "\u001b[32m2025-01-21 11:56:00.072\u001b[0m | \u001b[1mINFO    \u001b[0m | \u001b[36mFinMind.data.finmind_api\u001b[0m:\u001b[36mget_data\u001b[0m:\u001b[36m148\u001b[0m - \u001b[1mdownload Dataset.TaiwanStockPrice, data_id: 00688L\u001b[0m\n",
      "\u001b[32m2025-01-21 11:56:00.303\u001b[0m | \u001b[1mINFO    \u001b[0m | \u001b[36mFinMind.data.finmind_api\u001b[0m:\u001b[36mget_data\u001b[0m:\u001b[36m148\u001b[0m - \u001b[1mdownload Dataset.TaiwanStockPrice, data_id: 00689R\u001b[0m\n",
      "\u001b[32m2025-01-21 11:56:00.753\u001b[0m | \u001b[1mINFO    \u001b[0m | \u001b[36mFinMind.data.finmind_api\u001b[0m:\u001b[36mget_data\u001b[0m:\u001b[36m148\u001b[0m - \u001b[1mdownload Dataset.TaiwanStockPrice, data_id: 00690\u001b[0m\n",
      "\u001b[32m2025-01-21 11:56:01.086\u001b[0m | \u001b[1mINFO    \u001b[0m | \u001b[36mFinMind.data.finmind_api\u001b[0m:\u001b[36mget_data\u001b[0m:\u001b[36m148\u001b[0m - \u001b[1mdownload Dataset.TaiwanStockPrice, data_id: 00692\u001b[0m\n",
      "\u001b[32m2025-01-21 11:56:01.332\u001b[0m | \u001b[1mINFO    \u001b[0m | \u001b[36mFinMind.data.finmind_api\u001b[0m:\u001b[36mget_data\u001b[0m:\u001b[36m148\u001b[0m - \u001b[1mdownload Dataset.TaiwanStockPrice, data_id: 00693U\u001b[0m\n",
      "\u001b[32m2025-01-21 11:56:01.718\u001b[0m | \u001b[1mINFO    \u001b[0m | \u001b[36mFinMind.data.finmind_api\u001b[0m:\u001b[36mget_data\u001b[0m:\u001b[36m148\u001b[0m - \u001b[1mdownload Dataset.TaiwanStockPrice, data_id: 00700\u001b[0m\n",
      "\u001b[32m2025-01-21 11:56:02.000\u001b[0m | \u001b[1mINFO    \u001b[0m | \u001b[36mFinMind.data.finmind_api\u001b[0m:\u001b[36mget_data\u001b[0m:\u001b[36m148\u001b[0m - \u001b[1mdownload Dataset.TaiwanStockPrice, data_id: 00701\u001b[0m\n",
      "\u001b[32m2025-01-21 11:56:02.281\u001b[0m | \u001b[1mINFO    \u001b[0m | \u001b[36mFinMind.data.finmind_api\u001b[0m:\u001b[36mget_data\u001b[0m:\u001b[36m148\u001b[0m - \u001b[1mdownload Dataset.TaiwanStockPrice, data_id: 00702\u001b[0m\n",
      "\u001b[32m2025-01-21 11:56:02.656\u001b[0m | \u001b[1mINFO    \u001b[0m | \u001b[36mFinMind.data.finmind_api\u001b[0m:\u001b[36mget_data\u001b[0m:\u001b[36m148\u001b[0m - \u001b[1mdownload Dataset.TaiwanStockPrice, data_id: 00703\u001b[0m\n",
      "\u001b[32m2025-01-21 11:56:02.874\u001b[0m | \u001b[1mINFO    \u001b[0m | \u001b[36mFinMind.data.finmind_api\u001b[0m:\u001b[36mget_data\u001b[0m:\u001b[36m148\u001b[0m - \u001b[1mdownload Dataset.TaiwanStockPrice, data_id: 00706L\u001b[0m\n",
      "\u001b[32m2025-01-21 11:56:03.098\u001b[0m | \u001b[1mINFO    \u001b[0m | \u001b[36mFinMind.data.finmind_api\u001b[0m:\u001b[36mget_data\u001b[0m:\u001b[36m148\u001b[0m - \u001b[1mdownload Dataset.TaiwanStockPrice, data_id: 00707R\u001b[0m\n",
      "\u001b[32m2025-01-21 11:56:03.320\u001b[0m | \u001b[1mINFO    \u001b[0m | \u001b[36mFinMind.data.finmind_api\u001b[0m:\u001b[36mget_data\u001b[0m:\u001b[36m148\u001b[0m - \u001b[1mdownload Dataset.TaiwanStockPrice, data_id: 00708L\u001b[0m\n",
      "\u001b[32m2025-01-21 11:56:03.522\u001b[0m | \u001b[1mINFO    \u001b[0m | \u001b[36mFinMind.data.finmind_api\u001b[0m:\u001b[36mget_data\u001b[0m:\u001b[36m148\u001b[0m - \u001b[1mdownload Dataset.TaiwanStockPrice, data_id: 00709\u001b[0m\n",
      "\u001b[32m2025-01-21 11:56:03.791\u001b[0m | \u001b[1mINFO    \u001b[0m | \u001b[36mFinMind.data.finmind_api\u001b[0m:\u001b[36mget_data\u001b[0m:\u001b[36m148\u001b[0m - \u001b[1mdownload Dataset.TaiwanStockPrice, data_id: 00710B\u001b[0m\n",
      "\u001b[32m2025-01-21 11:56:04.067\u001b[0m | \u001b[1mINFO    \u001b[0m | \u001b[36mFinMind.data.finmind_api\u001b[0m:\u001b[36mget_data\u001b[0m:\u001b[36m148\u001b[0m - \u001b[1mdownload Dataset.TaiwanStockPrice, data_id: 00711B\u001b[0m\n",
      "\u001b[32m2025-01-21 11:56:04.274\u001b[0m | \u001b[1mINFO    \u001b[0m | \u001b[36mFinMind.data.finmind_api\u001b[0m:\u001b[36mget_data\u001b[0m:\u001b[36m148\u001b[0m - \u001b[1mdownload Dataset.TaiwanStockPrice, data_id: 00712\u001b[0m\n",
      "\u001b[32m2025-01-21 11:56:04.614\u001b[0m | \u001b[1mINFO    \u001b[0m | \u001b[36mFinMind.data.finmind_api\u001b[0m:\u001b[36mget_data\u001b[0m:\u001b[36m148\u001b[0m - \u001b[1mdownload Dataset.TaiwanStockPrice, data_id: 00713\u001b[0m\n",
      "\u001b[32m2025-01-21 11:56:04.825\u001b[0m | \u001b[1mINFO    \u001b[0m | \u001b[36mFinMind.data.finmind_api\u001b[0m:\u001b[36mget_data\u001b[0m:\u001b[36m148\u001b[0m - \u001b[1mdownload Dataset.TaiwanStockPrice, data_id: 00714\u001b[0m\n",
      "\u001b[32m2025-01-21 11:56:05.047\u001b[0m | \u001b[1mINFO    \u001b[0m | \u001b[36mFinMind.data.finmind_api\u001b[0m:\u001b[36mget_data\u001b[0m:\u001b[36m148\u001b[0m - \u001b[1mdownload Dataset.TaiwanStockPrice, data_id: 00715L\u001b[0m\n",
      "\u001b[32m2025-01-21 11:56:05.401\u001b[0m | \u001b[1mINFO    \u001b[0m | \u001b[36mFinMind.data.finmind_api\u001b[0m:\u001b[36mget_data\u001b[0m:\u001b[36m148\u001b[0m - \u001b[1mdownload Dataset.TaiwanStockPrice, data_id: 00717\u001b[0m\n",
      "\u001b[32m2025-01-21 11:56:05.734\u001b[0m | \u001b[1mINFO    \u001b[0m | \u001b[36mFinMind.data.finmind_api\u001b[0m:\u001b[36mget_data\u001b[0m:\u001b[36m148\u001b[0m - \u001b[1mdownload Dataset.TaiwanStockPrice, data_id: 00728\u001b[0m\n",
      "\u001b[32m2025-01-21 11:56:06.082\u001b[0m | \u001b[1mINFO    \u001b[0m | \u001b[36mFinMind.data.finmind_api\u001b[0m:\u001b[36mget_data\u001b[0m:\u001b[36m148\u001b[0m - \u001b[1mdownload Dataset.TaiwanStockPrice, data_id: 00730\u001b[0m\n",
      "\u001b[32m2025-01-21 11:56:06.415\u001b[0m | \u001b[1mINFO    \u001b[0m | \u001b[36mFinMind.data.finmind_api\u001b[0m:\u001b[36mget_data\u001b[0m:\u001b[36m148\u001b[0m - \u001b[1mdownload Dataset.TaiwanStockPrice, data_id: 00731\u001b[0m\n",
      "\u001b[32m2025-01-21 11:56:06.635\u001b[0m | \u001b[1mINFO    \u001b[0m | \u001b[36mFinMind.data.finmind_api\u001b[0m:\u001b[36mget_data\u001b[0m:\u001b[36m148\u001b[0m - \u001b[1mdownload Dataset.TaiwanStockPrice, data_id: 00733\u001b[0m\n",
      "\u001b[32m2025-01-21 11:56:06.840\u001b[0m | \u001b[1mINFO    \u001b[0m | \u001b[36mFinMind.data.finmind_api\u001b[0m:\u001b[36mget_data\u001b[0m:\u001b[36m148\u001b[0m - \u001b[1mdownload Dataset.TaiwanStockPrice, data_id: 00735\u001b[0m\n",
      "\u001b[32m2025-01-21 11:56:07.181\u001b[0m | \u001b[1mINFO    \u001b[0m | \u001b[36mFinMind.data.finmind_api\u001b[0m:\u001b[36mget_data\u001b[0m:\u001b[36m148\u001b[0m - \u001b[1mdownload Dataset.TaiwanStockPrice, data_id: 00736\u001b[0m\n",
      "\u001b[32m2025-01-21 11:56:07.382\u001b[0m | \u001b[1mINFO    \u001b[0m | \u001b[36mFinMind.data.finmind_api\u001b[0m:\u001b[36mget_data\u001b[0m:\u001b[36m148\u001b[0m - \u001b[1mdownload Dataset.TaiwanStockPrice, data_id: 00737\u001b[0m\n",
      "\u001b[32m2025-01-21 11:56:07.609\u001b[0m | \u001b[1mINFO    \u001b[0m | \u001b[36mFinMind.data.finmind_api\u001b[0m:\u001b[36mget_data\u001b[0m:\u001b[36m148\u001b[0m - \u001b[1mdownload Dataset.TaiwanStockPrice, data_id: 00738U\u001b[0m\n",
      "\u001b[32m2025-01-21 11:56:07.954\u001b[0m | \u001b[1mINFO    \u001b[0m | \u001b[36mFinMind.data.finmind_api\u001b[0m:\u001b[36mget_data\u001b[0m:\u001b[36m148\u001b[0m - \u001b[1mdownload Dataset.TaiwanStockPrice, data_id: 00739\u001b[0m\n",
      "\u001b[32m2025-01-21 11:56:08.279\u001b[0m | \u001b[1mINFO    \u001b[0m | \u001b[36mFinMind.data.finmind_api\u001b[0m:\u001b[36mget_data\u001b[0m:\u001b[36m148\u001b[0m - \u001b[1mdownload Dataset.TaiwanStockPrice, data_id: 00752\u001b[0m\n",
      "\u001b[32m2025-01-21 11:56:08.494\u001b[0m | \u001b[1mINFO    \u001b[0m | \u001b[36mFinMind.data.finmind_api\u001b[0m:\u001b[36mget_data\u001b[0m:\u001b[36m148\u001b[0m - \u001b[1mdownload Dataset.TaiwanStockPrice, data_id: 00753L\u001b[0m\n",
      "\u001b[32m2025-01-21 11:56:08.706\u001b[0m | \u001b[1mINFO    \u001b[0m | \u001b[36mFinMind.data.finmind_api\u001b[0m:\u001b[36mget_data\u001b[0m:\u001b[36m148\u001b[0m - \u001b[1mdownload Dataset.TaiwanStockPrice, data_id: 00757\u001b[0m\n",
      "\u001b[32m2025-01-21 11:56:09.048\u001b[0m | \u001b[1mINFO    \u001b[0m | \u001b[36mFinMind.data.finmind_api\u001b[0m:\u001b[36mget_data\u001b[0m:\u001b[36m148\u001b[0m - \u001b[1mdownload Dataset.TaiwanStockPrice, data_id: 00762\u001b[0m\n",
      "\u001b[32m2025-01-21 11:56:09.325\u001b[0m | \u001b[1mINFO    \u001b[0m | \u001b[36mFinMind.data.finmind_api\u001b[0m:\u001b[36mget_data\u001b[0m:\u001b[36m148\u001b[0m - \u001b[1mdownload Dataset.TaiwanStockPrice, data_id: 00763U\u001b[0m\n",
      "\u001b[32m2025-01-21 11:56:09.550\u001b[0m | \u001b[1mINFO    \u001b[0m | \u001b[36mFinMind.data.finmind_api\u001b[0m:\u001b[36mget_data\u001b[0m:\u001b[36m148\u001b[0m - \u001b[1mdownload Dataset.TaiwanStockPrice, data_id: 00770\u001b[0m\n",
      "\u001b[32m2025-01-21 11:56:09.892\u001b[0m | \u001b[1mINFO    \u001b[0m | \u001b[36mFinMind.data.finmind_api\u001b[0m:\u001b[36mget_data\u001b[0m:\u001b[36m148\u001b[0m - \u001b[1mdownload Dataset.TaiwanStockPrice, data_id: 00771\u001b[0m\n",
      "\u001b[32m2025-01-21 11:56:10.218\u001b[0m | \u001b[1mINFO    \u001b[0m | \u001b[36mFinMind.data.finmind_api\u001b[0m:\u001b[36mget_data\u001b[0m:\u001b[36m148\u001b[0m - \u001b[1mdownload Dataset.TaiwanStockPrice, data_id: 00775B\u001b[0m\n",
      "\u001b[32m2025-01-21 11:56:10.412\u001b[0m | \u001b[1mINFO    \u001b[0m | \u001b[36mFinMind.data.finmind_api\u001b[0m:\u001b[36mget_data\u001b[0m:\u001b[36m148\u001b[0m - \u001b[1mdownload Dataset.TaiwanStockPrice, data_id: 00783\u001b[0m\n",
      "\u001b[32m2025-01-21 11:56:10.640\u001b[0m | \u001b[1mINFO    \u001b[0m | \u001b[36mFinMind.data.finmind_api\u001b[0m:\u001b[36mget_data\u001b[0m:\u001b[36m148\u001b[0m - \u001b[1mdownload Dataset.TaiwanStockPrice, data_id: 00830\u001b[0m\n",
      "\u001b[32m2025-01-21 11:56:10.905\u001b[0m | \u001b[1mINFO    \u001b[0m | \u001b[36mFinMind.data.finmind_api\u001b[0m:\u001b[36mget_data\u001b[0m:\u001b[36m148\u001b[0m - \u001b[1mdownload Dataset.TaiwanStockPrice, data_id: 00850\u001b[0m\n",
      "\u001b[32m2025-01-21 11:56:11.241\u001b[0m | \u001b[1mINFO    \u001b[0m | \u001b[36mFinMind.data.finmind_api\u001b[0m:\u001b[36mget_data\u001b[0m:\u001b[36m148\u001b[0m - \u001b[1mdownload Dataset.TaiwanStockPrice, data_id: 00851\u001b[0m\n",
      "\u001b[32m2025-01-21 11:56:11.445\u001b[0m | \u001b[1mINFO    \u001b[0m | \u001b[36mFinMind.data.finmind_api\u001b[0m:\u001b[36mget_data\u001b[0m:\u001b[36m148\u001b[0m - \u001b[1mdownload Dataset.TaiwanStockPrice, data_id: 00852L\u001b[0m\n",
      "\u001b[32m2025-01-21 11:56:11.648\u001b[0m | \u001b[1mINFO    \u001b[0m | \u001b[36mFinMind.data.finmind_api\u001b[0m:\u001b[36mget_data\u001b[0m:\u001b[36m148\u001b[0m - \u001b[1mdownload Dataset.TaiwanStockPrice, data_id: 00861\u001b[0m\n",
      "\u001b[32m2025-01-21 11:56:11.849\u001b[0m | \u001b[1mINFO    \u001b[0m | \u001b[36mFinMind.data.finmind_api\u001b[0m:\u001b[36mget_data\u001b[0m:\u001b[36m148\u001b[0m - \u001b[1mdownload Dataset.TaiwanStockPrice, data_id: 00865B\u001b[0m\n",
      "\u001b[32m2025-01-21 11:56:12.174\u001b[0m | \u001b[1mINFO    \u001b[0m | \u001b[36mFinMind.data.finmind_api\u001b[0m:\u001b[36mget_data\u001b[0m:\u001b[36m148\u001b[0m - \u001b[1mdownload Dataset.TaiwanStockPrice, data_id: 00875\u001b[0m\n",
      "\u001b[32m2025-01-21 11:56:12.374\u001b[0m | \u001b[1mINFO    \u001b[0m | \u001b[36mFinMind.data.finmind_api\u001b[0m:\u001b[36mget_data\u001b[0m:\u001b[36m148\u001b[0m - \u001b[1mdownload Dataset.TaiwanStockPrice, data_id: 00876\u001b[0m\n",
      "\u001b[32m2025-01-21 11:56:12.705\u001b[0m | \u001b[1mINFO    \u001b[0m | \u001b[36mFinMind.data.finmind_api\u001b[0m:\u001b[36mget_data\u001b[0m:\u001b[36m148\u001b[0m - \u001b[1mdownload Dataset.TaiwanStockPrice, data_id: 00878\u001b[0m\n",
      "\u001b[32m2025-01-21 11:56:12.921\u001b[0m | \u001b[1mINFO    \u001b[0m | \u001b[36mFinMind.data.finmind_api\u001b[0m:\u001b[36mget_data\u001b[0m:\u001b[36m148\u001b[0m - \u001b[1mdownload Dataset.TaiwanStockPrice, data_id: 00881\u001b[0m\n",
      "\u001b[32m2025-01-21 11:56:13.121\u001b[0m | \u001b[1mINFO    \u001b[0m | \u001b[36mFinMind.data.finmind_api\u001b[0m:\u001b[36mget_data\u001b[0m:\u001b[36m148\u001b[0m - \u001b[1mdownload Dataset.TaiwanStockPrice, data_id: 00882\u001b[0m\n",
      "\u001b[32m2025-01-21 11:56:13.340\u001b[0m | \u001b[1mINFO    \u001b[0m | \u001b[36mFinMind.data.finmind_api\u001b[0m:\u001b[36mget_data\u001b[0m:\u001b[36m148\u001b[0m - \u001b[1mdownload Dataset.TaiwanStockPrice, data_id: 00885\u001b[0m\n",
      "\u001b[32m2025-01-21 11:56:13.681\u001b[0m | \u001b[1mINFO    \u001b[0m | \u001b[36mFinMind.data.finmind_api\u001b[0m:\u001b[36mget_data\u001b[0m:\u001b[36m148\u001b[0m - \u001b[1mdownload Dataset.TaiwanStockPrice, data_id: 00891\u001b[0m\n",
      "\u001b[32m2025-01-21 11:56:13.904\u001b[0m | \u001b[1mINFO    \u001b[0m | \u001b[36mFinMind.data.finmind_api\u001b[0m:\u001b[36mget_data\u001b[0m:\u001b[36m148\u001b[0m - \u001b[1mdownload Dataset.TaiwanStockPrice, data_id: 00892\u001b[0m\n",
      "\u001b[32m2025-01-21 11:56:14.097\u001b[0m | \u001b[1mINFO    \u001b[0m | \u001b[36mFinMind.data.finmind_api\u001b[0m:\u001b[36mget_data\u001b[0m:\u001b[36m148\u001b[0m - \u001b[1mdownload Dataset.TaiwanStockPrice, data_id: 00893\u001b[0m\n",
      "\u001b[32m2025-01-21 11:56:14.315\u001b[0m | \u001b[1mINFO    \u001b[0m | \u001b[36mFinMind.data.finmind_api\u001b[0m:\u001b[36mget_data\u001b[0m:\u001b[36m148\u001b[0m - \u001b[1mdownload Dataset.TaiwanStockPrice, data_id: 00894\u001b[0m\n",
      "\u001b[32m2025-01-21 11:56:14.655\u001b[0m | \u001b[1mINFO    \u001b[0m | \u001b[36mFinMind.data.finmind_api\u001b[0m:\u001b[36mget_data\u001b[0m:\u001b[36m148\u001b[0m - \u001b[1mdownload Dataset.TaiwanStockPrice, data_id: 00895\u001b[0m\n",
      "\u001b[32m2025-01-21 11:56:14.984\u001b[0m | \u001b[1mINFO    \u001b[0m | \u001b[36mFinMind.data.finmind_api\u001b[0m:\u001b[36mget_data\u001b[0m:\u001b[36m148\u001b[0m - \u001b[1mdownload Dataset.TaiwanStockPrice, data_id: 00896\u001b[0m\n",
      "\u001b[32m2025-01-21 11:56:15.322\u001b[0m | \u001b[1mINFO    \u001b[0m | \u001b[36mFinMind.data.finmind_api\u001b[0m:\u001b[36mget_data\u001b[0m:\u001b[36m148\u001b[0m - \u001b[1mdownload Dataset.TaiwanStockPrice, data_id: 00897\u001b[0m\n",
      "\u001b[32m2025-01-21 11:56:15.659\u001b[0m | \u001b[1mINFO    \u001b[0m | \u001b[36mFinMind.data.finmind_api\u001b[0m:\u001b[36mget_data\u001b[0m:\u001b[36m148\u001b[0m - \u001b[1mdownload Dataset.TaiwanStockPrice, data_id: 00898\u001b[0m\n",
      "\u001b[32m2025-01-21 11:56:16.004\u001b[0m | \u001b[1mINFO    \u001b[0m | \u001b[36mFinMind.data.finmind_api\u001b[0m:\u001b[36mget_data\u001b[0m:\u001b[36m148\u001b[0m - \u001b[1mdownload Dataset.TaiwanStockPrice, data_id: 00899\u001b[0m\n",
      "\u001b[32m2025-01-21 11:56:16.329\u001b[0m | \u001b[1mINFO    \u001b[0m | \u001b[36mFinMind.data.finmind_api\u001b[0m:\u001b[36mget_data\u001b[0m:\u001b[36m148\u001b[0m - \u001b[1mdownload Dataset.TaiwanStockPrice, data_id: 00900\u001b[0m\n",
      "\u001b[32m2025-01-21 11:56:16.548\u001b[0m | \u001b[1mINFO    \u001b[0m | \u001b[36mFinMind.data.finmind_api\u001b[0m:\u001b[36mget_data\u001b[0m:\u001b[36m148\u001b[0m - \u001b[1mdownload Dataset.TaiwanStockPrice, data_id: 00901\u001b[0m\n",
      "\u001b[32m2025-01-21 11:56:16.888\u001b[0m | \u001b[1mINFO    \u001b[0m | \u001b[36mFinMind.data.finmind_api\u001b[0m:\u001b[36mget_data\u001b[0m:\u001b[36m148\u001b[0m - \u001b[1mdownload Dataset.TaiwanStockPrice, data_id: 00902\u001b[0m\n",
      "\u001b[32m2025-01-21 11:56:17.112\u001b[0m | \u001b[1mINFO    \u001b[0m | \u001b[36mFinMind.data.finmind_api\u001b[0m:\u001b[36mget_data\u001b[0m:\u001b[36m148\u001b[0m - \u001b[1mdownload Dataset.TaiwanStockPrice, data_id: 00903\u001b[0m\n",
      "\u001b[32m2025-01-21 11:56:17.330\u001b[0m | \u001b[1mINFO    \u001b[0m | \u001b[36mFinMind.data.finmind_api\u001b[0m:\u001b[36mget_data\u001b[0m:\u001b[36m148\u001b[0m - \u001b[1mdownload Dataset.TaiwanStockPrice, data_id: 00904\u001b[0m\n",
      "\u001b[32m2025-01-21 11:56:17.664\u001b[0m | \u001b[1mINFO    \u001b[0m | \u001b[36mFinMind.data.finmind_api\u001b[0m:\u001b[36mget_data\u001b[0m:\u001b[36m148\u001b[0m - \u001b[1mdownload Dataset.TaiwanStockPrice, data_id: 00905\u001b[0m\n",
      "\u001b[32m2025-01-21 11:56:17.880\u001b[0m | \u001b[1mINFO    \u001b[0m | \u001b[36mFinMind.data.finmind_api\u001b[0m:\u001b[36mget_data\u001b[0m:\u001b[36m148\u001b[0m - \u001b[1mdownload Dataset.TaiwanStockPrice, data_id: 00907\u001b[0m\n",
      "\u001b[32m2025-01-21 11:56:18.091\u001b[0m | \u001b[1mINFO    \u001b[0m | \u001b[36mFinMind.data.finmind_api\u001b[0m:\u001b[36mget_data\u001b[0m:\u001b[36m148\u001b[0m - \u001b[1mdownload Dataset.TaiwanStockPrice, data_id: 00908\u001b[0m\n",
      "\u001b[32m2025-01-21 11:56:18.296\u001b[0m | \u001b[1mINFO    \u001b[0m | \u001b[36mFinMind.data.finmind_api\u001b[0m:\u001b[36mget_data\u001b[0m:\u001b[36m148\u001b[0m - \u001b[1mdownload Dataset.TaiwanStockPrice, data_id: 00909\u001b[0m\n",
      "\u001b[32m2025-01-21 11:56:18.522\u001b[0m | \u001b[1mINFO    \u001b[0m | \u001b[36mFinMind.data.finmind_api\u001b[0m:\u001b[36mget_data\u001b[0m:\u001b[36m148\u001b[0m - \u001b[1mdownload Dataset.TaiwanStockPrice, data_id: 00910\u001b[0m\n",
      "\u001b[32m2025-01-21 11:56:18.813\u001b[0m | \u001b[1mINFO    \u001b[0m | \u001b[36mFinMind.data.finmind_api\u001b[0m:\u001b[36mget_data\u001b[0m:\u001b[36m148\u001b[0m - \u001b[1mdownload Dataset.TaiwanStockPrice, data_id: 00911\u001b[0m\n",
      "\u001b[32m2025-01-21 11:56:19.029\u001b[0m | \u001b[1mINFO    \u001b[0m | \u001b[36mFinMind.data.finmind_api\u001b[0m:\u001b[36mget_data\u001b[0m:\u001b[36m148\u001b[0m - \u001b[1mdownload Dataset.TaiwanStockPrice, data_id: 00912\u001b[0m\n",
      "\u001b[32m2025-01-21 11:56:19.361\u001b[0m | \u001b[1mINFO    \u001b[0m | \u001b[36mFinMind.data.finmind_api\u001b[0m:\u001b[36mget_data\u001b[0m:\u001b[36m148\u001b[0m - \u001b[1mdownload Dataset.TaiwanStockPrice, data_id: 00913\u001b[0m\n",
      "\u001b[32m2025-01-21 11:56:19.568\u001b[0m | \u001b[1mINFO    \u001b[0m | \u001b[36mFinMind.data.finmind_api\u001b[0m:\u001b[36mget_data\u001b[0m:\u001b[36m148\u001b[0m - \u001b[1mdownload Dataset.TaiwanStockPrice, data_id: 00915\u001b[0m\n",
      "\u001b[32m2025-01-21 11:56:19.777\u001b[0m | \u001b[1mINFO    \u001b[0m | \u001b[36mFinMind.data.finmind_api\u001b[0m:\u001b[36mget_data\u001b[0m:\u001b[36m148\u001b[0m - \u001b[1mdownload Dataset.TaiwanStockPrice, data_id: 00916\u001b[0m\n",
      "\u001b[32m2025-01-21 11:56:19.976\u001b[0m | \u001b[1mINFO    \u001b[0m | \u001b[36mFinMind.data.finmind_api\u001b[0m:\u001b[36mget_data\u001b[0m:\u001b[36m148\u001b[0m - \u001b[1mdownload Dataset.TaiwanStockPrice, data_id: 00917\u001b[0m\n",
      "\u001b[32m2025-01-21 11:56:20.180\u001b[0m | \u001b[1mINFO    \u001b[0m | \u001b[36mFinMind.data.finmind_api\u001b[0m:\u001b[36mget_data\u001b[0m:\u001b[36m148\u001b[0m - \u001b[1mdownload Dataset.TaiwanStockPrice, data_id: 00918\u001b[0m\n",
      "\u001b[32m2025-01-21 11:56:20.425\u001b[0m | \u001b[1mINFO    \u001b[0m | \u001b[36mFinMind.data.finmind_api\u001b[0m:\u001b[36mget_data\u001b[0m:\u001b[36m148\u001b[0m - \u001b[1mdownload Dataset.TaiwanStockPrice, data_id: 00919\u001b[0m\n",
      "\u001b[32m2025-01-21 11:56:20.658\u001b[0m | \u001b[1mINFO    \u001b[0m | \u001b[36mFinMind.data.finmind_api\u001b[0m:\u001b[36mget_data\u001b[0m:\u001b[36m148\u001b[0m - \u001b[1mdownload Dataset.TaiwanStockPrice, data_id: 00920\u001b[0m\n",
      "\u001b[32m2025-01-21 11:56:20.870\u001b[0m | \u001b[1mINFO    \u001b[0m | \u001b[36mFinMind.data.finmind_api\u001b[0m:\u001b[36mget_data\u001b[0m:\u001b[36m148\u001b[0m - \u001b[1mdownload Dataset.TaiwanStockPrice, data_id: 00921\u001b[0m\n",
      "\u001b[32m2025-01-21 11:56:21.207\u001b[0m | \u001b[1mINFO    \u001b[0m | \u001b[36mFinMind.data.finmind_api\u001b[0m:\u001b[36mget_data\u001b[0m:\u001b[36m148\u001b[0m - \u001b[1mdownload Dataset.TaiwanStockPrice, data_id: 00922\u001b[0m\n",
      "\u001b[32m2025-01-21 11:56:21.414\u001b[0m | \u001b[1mINFO    \u001b[0m | \u001b[36mFinMind.data.finmind_api\u001b[0m:\u001b[36mget_data\u001b[0m:\u001b[36m148\u001b[0m - \u001b[1mdownload Dataset.TaiwanStockPrice, data_id: 00923\u001b[0m\n",
      "\u001b[32m2025-01-21 11:56:21.755\u001b[0m | \u001b[1mINFO    \u001b[0m | \u001b[36mFinMind.data.finmind_api\u001b[0m:\u001b[36mget_data\u001b[0m:\u001b[36m148\u001b[0m - \u001b[1mdownload Dataset.TaiwanStockPrice, data_id: 00924\u001b[0m\n",
      "\u001b[32m2025-01-21 11:56:22.099\u001b[0m | \u001b[1mINFO    \u001b[0m | \u001b[36mFinMind.data.finmind_api\u001b[0m:\u001b[36mget_data\u001b[0m:\u001b[36m148\u001b[0m - \u001b[1mdownload Dataset.TaiwanStockPrice, data_id: 00925\u001b[0m\n",
      "\u001b[32m2025-01-21 11:56:22.324\u001b[0m | \u001b[1mINFO    \u001b[0m | \u001b[36mFinMind.data.finmind_api\u001b[0m:\u001b[36mget_data\u001b[0m:\u001b[36m148\u001b[0m - \u001b[1mdownload Dataset.TaiwanStockPrice, data_id: 00926\u001b[0m\n",
      "\u001b[32m2025-01-21 11:56:22.543\u001b[0m | \u001b[1mINFO    \u001b[0m | \u001b[36mFinMind.data.finmind_api\u001b[0m:\u001b[36mget_data\u001b[0m:\u001b[36m148\u001b[0m - \u001b[1mdownload Dataset.TaiwanStockPrice, data_id: 00927\u001b[0m\n",
      "\u001b[32m2025-01-21 11:56:22.883\u001b[0m | \u001b[1mINFO    \u001b[0m | \u001b[36mFinMind.data.finmind_api\u001b[0m:\u001b[36mget_data\u001b[0m:\u001b[36m148\u001b[0m - \u001b[1mdownload Dataset.TaiwanStockPrice, data_id: 00929\u001b[0m\n",
      "\u001b[32m2025-01-21 11:56:23.081\u001b[0m | \u001b[1mINFO    \u001b[0m | \u001b[36mFinMind.data.finmind_api\u001b[0m:\u001b[36mget_data\u001b[0m:\u001b[36m148\u001b[0m - \u001b[1mdownload Dataset.TaiwanStockPrice, data_id: 00930\u001b[0m\n",
      "\u001b[32m2025-01-21 11:56:23.292\u001b[0m | \u001b[1mINFO    \u001b[0m | \u001b[36mFinMind.data.finmind_api\u001b[0m:\u001b[36mget_data\u001b[0m:\u001b[36m148\u001b[0m - \u001b[1mdownload Dataset.TaiwanStockPrice, data_id: 00932\u001b[0m\n",
      "\u001b[32m2025-01-21 11:56:23.487\u001b[0m | \u001b[1mINFO    \u001b[0m | \u001b[36mFinMind.data.finmind_api\u001b[0m:\u001b[36mget_data\u001b[0m:\u001b[36m148\u001b[0m - \u001b[1mdownload Dataset.TaiwanStockPrice, data_id: 00934\u001b[0m\n",
      "\u001b[32m2025-01-21 11:56:23.824\u001b[0m | \u001b[1mINFO    \u001b[0m | \u001b[36mFinMind.data.finmind_api\u001b[0m:\u001b[36mget_data\u001b[0m:\u001b[36m148\u001b[0m - \u001b[1mdownload Dataset.TaiwanStockPrice, data_id: 00935\u001b[0m\n",
      "\u001b[32m2025-01-21 11:56:24.060\u001b[0m | \u001b[1mINFO    \u001b[0m | \u001b[36mFinMind.data.finmind_api\u001b[0m:\u001b[36mget_data\u001b[0m:\u001b[36m148\u001b[0m - \u001b[1mdownload Dataset.TaiwanStockPrice, data_id: 00936\u001b[0m\n",
      "\u001b[32m2025-01-21 11:56:24.266\u001b[0m | \u001b[1mINFO    \u001b[0m | \u001b[36mFinMind.data.finmind_api\u001b[0m:\u001b[36mget_data\u001b[0m:\u001b[36m148\u001b[0m - \u001b[1mdownload Dataset.TaiwanStockPrice, data_id: 00939\u001b[0m\n",
      "\u001b[32m2025-01-21 11:56:24.597\u001b[0m | \u001b[1mINFO    \u001b[0m | \u001b[36mFinMind.data.finmind_api\u001b[0m:\u001b[36mget_data\u001b[0m:\u001b[36m148\u001b[0m - \u001b[1mdownload Dataset.TaiwanStockPrice, data_id: 00940\u001b[0m\n",
      "\u001b[32m2025-01-21 11:56:24.925\u001b[0m | \u001b[1mINFO    \u001b[0m | \u001b[36mFinMind.data.finmind_api\u001b[0m:\u001b[36mget_data\u001b[0m:\u001b[36m148\u001b[0m - \u001b[1mdownload Dataset.TaiwanStockPrice, data_id: 00941\u001b[0m\n"
     ]
    }
   ],
   "source": [
    "api = DataLoader()\n",
    "api.login_by_token(api_token=token)\n",
    "\n",
    "fapi = FinMindApi()\n",
    "fapi.login_by_token(token)\n",
    "print(fapi.api_usage_limit)\n",
    "\n",
    "stock_id_available = []\n",
    "\n",
    "tw_stock_info_df = api.taiwan_stock_info()\n",
    "stock_list_df = tw_stock_info_df.loc[tw_stock_info_df[\"industry_category\"]==\"ETF\"]\n",
    "for index,row in stock_list_df.iterrows():\n",
    "    stock_id = row[\"stock_id\"]\n",
    "    stock_name = row[\"stock_name\"]\n",
    "    \n",
    "    if stock_id in stock_id_ignored:\n",
    "        continue\n",
    "        \n",
    "    df = api.taiwan_stock_daily(\n",
    "        stock_id=row[\"stock_id\"],\n",
    "        start_date='2024-04-02',\n",
    "        end_date='2024-04-30'\n",
    "    )\n",
    "    if df.size > 0:\n",
    "        # print(row[\"stock_id\"], row[\"stock_name\"], row[\"date\"], df.size)\n",
    "        stock_id_available.append(row[\"stock_id\"])\n",
    "    else :\n",
    "        print(\"BYPASS\", )\n",
    "        stock_id_ignored.append(row[\"stock_id\"])\n",
    "        \n",
    "    # if index > 15: break"
   ]
  },
  {
   "cell_type": "code",
   "execution_count": 5,
   "id": "48d77979-5f6f-4962-972b-5e0b5b1fbe06",
   "metadata": {},
   "outputs": [
    {
     "name": "stdout",
     "output_type": "stream",
     "text": [
      "Ignore: ['0054', '0058', '0059', '0060', '00625K', '00643K', '00649', '00658L', '00659R', '00667', '00672L', '00677U', '00691R', '00698L', '00699R', '00704L', '00705R', '00716R', '00729R', '00732', '00742', '00743', '00766L', '00767', '00774B', '00774C', '00776', '0080', '0081', '008201', '00866', '00906', '00938', '00943', '00944', '00945B', '00946', '00947', '00949', '00951', '00952', '00953B', '00954', '00956', '00960', '00961', '00963', '00964', '00965']\n",
      "Available: ['0050', '0051', '0052', '0053', '0055', '0056', '0057', '0061', '006203', '006204', '006205', '006206', '006207', '006208', '00631L', '00632R', '00633L', '00634R', '00635U', '00636', '00636K', '00637L', '00638R', '00639', '00640L', '00641R', '00642U', '00643', '00645', '00646', '00647L', '00648R', '00650L', '00651R', '00652', '00653L', '00654R', '00655L', '00656R', '00657', '00657K', '00660', '00661', '00662', '00663L', '00664R', '00665L', '00666R', '00668', '00668K', '00669R', '00670L', '00671R', '00673R', '00674R', '00675L', '00676R', '00678', '00680L', '00681R', '00682U', '00683L', '00684R', '00685L', '00686R', '00688L', '00689R', '00690', '00692', '00693U', '00700', '00701', '00702', '00703', '00706L', '00707R', '00708L', '00709', '00710B', '00711B', '00712', '00713', '00714', '00715L', '00717', '00728', '00730', '00731', '00733', '00735', '00736', '00737', '00738U', '00739', '00752', '00753L', '00757', '00762', '00763U', '00770', '00771', '00775B', '00783', '00830', '00850', '00851', '00852L', '00861', '00865B', '00875', '00876', '00878', '00881', '00882', '00885', '00891', '00892', '00893', '00894', '00895', '00896', '00897', '00898', '00899', '00900', '00901', '00902', '00903', '00904', '00905', '00907', '00908', '00909', '00910', '00911', '00912', '00913', '00915', '00916', '00917', '00918', '00919', '00920', '00921', '00922', '00923', '00924', '00925', '00926', '00927', '00929', '00930', '00932', '00934', '00935', '00936', '00939', '00940', '00941']\n"
     ]
    }
   ],
   "source": [
    "print(f\"Ignore: {stock_id_ignored}\")\n",
    "print(f\"Available: {stock_id_available}\")"
   ]
  },
  {
   "cell_type": "code",
   "execution_count": 6,
   "id": "d8328727-f69e-46fe-a3f8-086de0492a47",
   "metadata": {},
   "outputs": [
    {
     "name": "stderr",
     "output_type": "stream",
     "text": [
      "\u001b[32m2025-01-21 17:10:26.510\u001b[0m | \u001b[1mINFO    \u001b[0m | \u001b[36mFinMind.data.finmind_api\u001b[0m:\u001b[36mget_data\u001b[0m:\u001b[36m148\u001b[0m - \u001b[1mdownload Dataset.TaiwanStockInfo, data_id: \u001b[0m\n"
     ]
    },
    {
     "name": "stdout",
     "output_type": "stream",
     "text": [
      "0050 元大台灣50\n"
     ]
    },
    {
     "name": "stderr",
     "output_type": "stream",
     "text": [
      "\u001b[32m2025-01-21 17:10:35.412\u001b[0m | \u001b[1mINFO    \u001b[0m | \u001b[36mFinMind.data.finmind_api\u001b[0m:\u001b[36mget_data\u001b[0m:\u001b[36m148\u001b[0m - \u001b[1mdownload Dataset.TaiwanStockPrice, data_id: 0050\u001b[0m\n",
      "\u001b[32m2025-01-21 17:10:36.180\u001b[0m | \u001b[1mINFO    \u001b[0m | \u001b[36mFinMind.data.finmind_api\u001b[0m:\u001b[36mget_data\u001b[0m:\u001b[36m148\u001b[0m - \u001b[1mdownload Dataset.TaiwanStockDividend, data_id: 0050\u001b[0m\n",
      "/home/raul/.config/jupyterlab-desktop/jlab_server/lib/python3.12/site-packages/pandas/core/arraylike.py:399: RuntimeWarning: invalid value encountered in log\n",
      "  result = getattr(ufunc, method)(*inputs, **kwargs)\n",
      "\u001b[32m2025-01-21 17:10:36.733\u001b[0m | \u001b[1mINFO    \u001b[0m | \u001b[36mFinMind.data.finmind_api\u001b[0m:\u001b[36mget_data\u001b[0m:\u001b[36m148\u001b[0m - \u001b[1mdownload TaiwanStockPrice, data_id: TAIEX\u001b[0m\n",
      "\u001b[32m2025-01-21 17:10:38.416\u001b[0m | \u001b[1mINFO    \u001b[0m | \u001b[36mFinMind.data.finmind_api\u001b[0m:\u001b[36mget_data\u001b[0m:\u001b[36m148\u001b[0m - \u001b[1mdownload Dataset.TaiwanStockInfo, data_id: \u001b[0m\n"
     ]
    },
    {
     "name": "stdout",
     "output_type": "stream",
     "text": [
      "0051 元大中型100\n"
     ]
    },
    {
     "name": "stderr",
     "output_type": "stream",
     "text": [
      "\u001b[32m2025-01-21 17:10:42.020\u001b[0m | \u001b[1mINFO    \u001b[0m | \u001b[36mFinMind.data.finmind_api\u001b[0m:\u001b[36mget_data\u001b[0m:\u001b[36m148\u001b[0m - \u001b[1mdownload Dataset.TaiwanStockPrice, data_id: 0051\u001b[0m\n",
      "\u001b[32m2025-01-21 17:10:42.538\u001b[0m | \u001b[1mINFO    \u001b[0m | \u001b[36mFinMind.data.finmind_api\u001b[0m:\u001b[36mget_data\u001b[0m:\u001b[36m148\u001b[0m - \u001b[1mdownload Dataset.TaiwanStockDividend, data_id: 0051\u001b[0m\n",
      "\u001b[32m2025-01-21 17:10:42.899\u001b[0m | \u001b[1mINFO    \u001b[0m | \u001b[36mFinMind.data.finmind_api\u001b[0m:\u001b[36mget_data\u001b[0m:\u001b[36m148\u001b[0m - \u001b[1mdownload TaiwanStockPrice, data_id: TAIEX\u001b[0m\n",
      "\u001b[32m2025-01-21 17:10:44.477\u001b[0m | \u001b[1mINFO    \u001b[0m | \u001b[36mFinMind.data.finmind_api\u001b[0m:\u001b[36mget_data\u001b[0m:\u001b[36m148\u001b[0m - \u001b[1mdownload Dataset.TaiwanStockInfo, data_id: \u001b[0m\n"
     ]
    },
    {
     "name": "stdout",
     "output_type": "stream",
     "text": [
      "0052 富邦科技\n"
     ]
    },
    {
     "name": "stderr",
     "output_type": "stream",
     "text": [
      "\u001b[32m2025-01-21 17:10:45.049\u001b[0m | \u001b[1mINFO    \u001b[0m | \u001b[36mFinMind.data.finmind_api\u001b[0m:\u001b[36mget_data\u001b[0m:\u001b[36m148\u001b[0m - \u001b[1mdownload Dataset.TaiwanStockPrice, data_id: 0052\u001b[0m\n",
      "\u001b[32m2025-01-21 17:10:45.581\u001b[0m | \u001b[1mINFO    \u001b[0m | \u001b[36mFinMind.data.finmind_api\u001b[0m:\u001b[36mget_data\u001b[0m:\u001b[36m148\u001b[0m - \u001b[1mdownload Dataset.TaiwanStockDividend, data_id: 0052\u001b[0m\n",
      "/home/raul/.config/jupyterlab-desktop/jlab_server/lib/python3.12/site-packages/pandas/core/arraylike.py:399: RuntimeWarning: invalid value encountered in log\n",
      "  result = getattr(ufunc, method)(*inputs, **kwargs)\n",
      "\u001b[32m2025-01-21 17:10:46.055\u001b[0m | \u001b[1mINFO    \u001b[0m | \u001b[36mFinMind.data.finmind_api\u001b[0m:\u001b[36mget_data\u001b[0m:\u001b[36m148\u001b[0m - \u001b[1mdownload TaiwanStockPrice, data_id: TAIEX\u001b[0m\n",
      "\u001b[32m2025-01-21 17:10:47.585\u001b[0m | \u001b[1mINFO    \u001b[0m | \u001b[36mFinMind.data.finmind_api\u001b[0m:\u001b[36mget_data\u001b[0m:\u001b[36m148\u001b[0m - \u001b[1mdownload Dataset.TaiwanStockInfo, data_id: \u001b[0m\n"
     ]
    },
    {
     "name": "stdout",
     "output_type": "stream",
     "text": [
      "0053 元大電子\n"
     ]
    },
    {
     "name": "stderr",
     "output_type": "stream",
     "text": [
      "\u001b[32m2025-01-21 17:10:49.833\u001b[0m | \u001b[1mINFO    \u001b[0m | \u001b[36mFinMind.data.finmind_api\u001b[0m:\u001b[36mget_data\u001b[0m:\u001b[36m148\u001b[0m - \u001b[1mdownload Dataset.TaiwanStockPrice, data_id: 0053\u001b[0m\n",
      "\u001b[32m2025-01-21 17:10:50.426\u001b[0m | \u001b[1mINFO    \u001b[0m | \u001b[36mFinMind.data.finmind_api\u001b[0m:\u001b[36mget_data\u001b[0m:\u001b[36m148\u001b[0m - \u001b[1mdownload Dataset.TaiwanStockDividend, data_id: 0053\u001b[0m\n",
      "/home/raul/.config/jupyterlab-desktop/jlab_server/lib/python3.12/site-packages/pandas/core/arraylike.py:399: RuntimeWarning: invalid value encountered in log\n",
      "  result = getattr(ufunc, method)(*inputs, **kwargs)\n",
      "\u001b[32m2025-01-21 17:10:50.889\u001b[0m | \u001b[1mINFO    \u001b[0m | \u001b[36mFinMind.data.finmind_api\u001b[0m:\u001b[36mget_data\u001b[0m:\u001b[36m148\u001b[0m - \u001b[1mdownload TaiwanStockPrice, data_id: TAIEX\u001b[0m\n",
      "\u001b[32m2025-01-21 17:10:52.512\u001b[0m | \u001b[1mINFO    \u001b[0m | \u001b[36mFinMind.data.finmind_api\u001b[0m:\u001b[36mget_data\u001b[0m:\u001b[36m148\u001b[0m - \u001b[1mdownload Dataset.TaiwanStockInfo, data_id: \u001b[0m\n"
     ]
    },
    {
     "name": "stdout",
     "output_type": "stream",
     "text": [
      "0055 元大MSCI金融\n"
     ]
    },
    {
     "name": "stderr",
     "output_type": "stream",
     "text": [
      "\u001b[32m2025-01-21 17:10:53.117\u001b[0m | \u001b[1mINFO    \u001b[0m | \u001b[36mFinMind.data.finmind_api\u001b[0m:\u001b[36mget_data\u001b[0m:\u001b[36m148\u001b[0m - \u001b[1mdownload Dataset.TaiwanStockPrice, data_id: 0055\u001b[0m\n",
      "\u001b[32m2025-01-21 17:10:53.597\u001b[0m | \u001b[1mINFO    \u001b[0m | \u001b[36mFinMind.data.finmind_api\u001b[0m:\u001b[36mget_data\u001b[0m:\u001b[36m148\u001b[0m - \u001b[1mdownload Dataset.TaiwanStockDividend, data_id: 0055\u001b[0m\n",
      "\u001b[32m2025-01-21 17:10:53.993\u001b[0m | \u001b[1mINFO    \u001b[0m | \u001b[36mFinMind.data.finmind_api\u001b[0m:\u001b[36mget_data\u001b[0m:\u001b[36m148\u001b[0m - \u001b[1mdownload TaiwanStockPrice, data_id: TAIEX\u001b[0m\n",
      "\u001b[32m2025-01-21 17:10:55.661\u001b[0m | \u001b[1mINFO    \u001b[0m | \u001b[36mFinMind.data.finmind_api\u001b[0m:\u001b[36mget_data\u001b[0m:\u001b[36m148\u001b[0m - \u001b[1mdownload Dataset.TaiwanStockInfo, data_id: \u001b[0m\n"
     ]
    },
    {
     "name": "stdout",
     "output_type": "stream",
     "text": [
      "0056 元大高股息\n"
     ]
    },
    {
     "name": "stderr",
     "output_type": "stream",
     "text": [
      "\u001b[32m2025-01-21 17:10:58.862\u001b[0m | \u001b[1mINFO    \u001b[0m | \u001b[36mFinMind.data.finmind_api\u001b[0m:\u001b[36mget_data\u001b[0m:\u001b[36m148\u001b[0m - \u001b[1mdownload Dataset.TaiwanStockPrice, data_id: 0056\u001b[0m\n",
      "\u001b[32m2025-01-21 17:10:59.454\u001b[0m | \u001b[1mINFO    \u001b[0m | \u001b[36mFinMind.data.finmind_api\u001b[0m:\u001b[36mget_data\u001b[0m:\u001b[36m148\u001b[0m - \u001b[1mdownload Dataset.TaiwanStockDividend, data_id: 0056\u001b[0m\n",
      "/home/raul/.config/jupyterlab-desktop/jlab_server/lib/python3.12/site-packages/pandas/core/arraylike.py:399: RuntimeWarning: invalid value encountered in log\n",
      "  result = getattr(ufunc, method)(*inputs, **kwargs)\n",
      "\u001b[32m2025-01-21 17:10:59.836\u001b[0m | \u001b[1mINFO    \u001b[0m | \u001b[36mFinMind.data.finmind_api\u001b[0m:\u001b[36mget_data\u001b[0m:\u001b[36m148\u001b[0m - \u001b[1mdownload TaiwanStockPrice, data_id: TAIEX\u001b[0m\n",
      "\u001b[32m2025-01-21 17:11:01.537\u001b[0m | \u001b[1mINFO    \u001b[0m | \u001b[36mFinMind.data.finmind_api\u001b[0m:\u001b[36mget_data\u001b[0m:\u001b[36m148\u001b[0m - \u001b[1mdownload Dataset.TaiwanStockInfo, data_id: \u001b[0m\n"
     ]
    },
    {
     "name": "stdout",
     "output_type": "stream",
     "text": [
      "0057 富邦摩台\n"
     ]
    },
    {
     "name": "stderr",
     "output_type": "stream",
     "text": [
      "\u001b[32m2025-01-21 17:11:02.133\u001b[0m | \u001b[1mINFO    \u001b[0m | \u001b[36mFinMind.data.finmind_api\u001b[0m:\u001b[36mget_data\u001b[0m:\u001b[36m148\u001b[0m - \u001b[1mdownload Dataset.TaiwanStockPrice, data_id: 0057\u001b[0m\n",
      "\u001b[32m2025-01-21 17:11:02.636\u001b[0m | \u001b[1mINFO    \u001b[0m | \u001b[36mFinMind.data.finmind_api\u001b[0m:\u001b[36mget_data\u001b[0m:\u001b[36m148\u001b[0m - \u001b[1mdownload Dataset.TaiwanStockDividend, data_id: 0057\u001b[0m\n",
      "/home/raul/.config/jupyterlab-desktop/jlab_server/lib/python3.12/site-packages/pandas/core/arraylike.py:399: RuntimeWarning: invalid value encountered in log\n",
      "  result = getattr(ufunc, method)(*inputs, **kwargs)\n",
      "\u001b[32m2025-01-21 17:11:03.164\u001b[0m | \u001b[1mINFO    \u001b[0m | \u001b[36mFinMind.data.finmind_api\u001b[0m:\u001b[36mget_data\u001b[0m:\u001b[36m148\u001b[0m - \u001b[1mdownload TaiwanStockPrice, data_id: TAIEX\u001b[0m\n",
      "\u001b[32m2025-01-21 17:11:04.699\u001b[0m | \u001b[1mINFO    \u001b[0m | \u001b[36mFinMind.data.finmind_api\u001b[0m:\u001b[36mget_data\u001b[0m:\u001b[36m148\u001b[0m - \u001b[1mdownload Dataset.TaiwanStockInfo, data_id: \u001b[0m\n"
     ]
    },
    {
     "name": "stdout",
     "output_type": "stream",
     "text": [
      "0061 元大寶滬深\n"
     ]
    },
    {
     "name": "stderr",
     "output_type": "stream",
     "text": [
      "\u001b[32m2025-01-21 17:11:05.350\u001b[0m | \u001b[1mINFO    \u001b[0m | \u001b[36mFinMind.data.finmind_api\u001b[0m:\u001b[36mget_data\u001b[0m:\u001b[36m148\u001b[0m - \u001b[1mdownload Dataset.TaiwanStockPrice, data_id: 0061\u001b[0m\n",
      "\u001b[32m2025-01-21 17:11:05.936\u001b[0m | \u001b[1mINFO    \u001b[0m | \u001b[36mFinMind.data.finmind_api\u001b[0m:\u001b[36mget_data\u001b[0m:\u001b[36m148\u001b[0m - \u001b[1mdownload Dataset.TaiwanStockDividend, data_id: 0061\u001b[0m\n",
      "/home/raul/.config/jupyterlab-desktop/jlab_server/lib/python3.12/site-packages/pandas/core/arraylike.py:399: RuntimeWarning: invalid value encountered in log\n",
      "  result = getattr(ufunc, method)(*inputs, **kwargs)\n",
      "\u001b[32m2025-01-21 17:11:06.349\u001b[0m | \u001b[1mINFO    \u001b[0m | \u001b[36mFinMind.data.finmind_api\u001b[0m:\u001b[36mget_data\u001b[0m:\u001b[36m148\u001b[0m - \u001b[1mdownload TaiwanStockPrice, data_id: TAIEX\u001b[0m\n",
      "\u001b[32m2025-01-21 17:11:07.904\u001b[0m | \u001b[1mINFO    \u001b[0m | \u001b[36mFinMind.data.finmind_api\u001b[0m:\u001b[36mget_data\u001b[0m:\u001b[36m148\u001b[0m - \u001b[1mdownload Dataset.TaiwanStockInfo, data_id: \u001b[0m\n"
     ]
    },
    {
     "name": "stdout",
     "output_type": "stream",
     "text": [
      "006203 元大MSCI台灣\n"
     ]
    },
    {
     "name": "stderr",
     "output_type": "stream",
     "text": [
      "\u001b[32m2025-01-21 17:11:08.579\u001b[0m | \u001b[1mINFO    \u001b[0m | \u001b[36mFinMind.data.finmind_api\u001b[0m:\u001b[36mget_data\u001b[0m:\u001b[36m148\u001b[0m - \u001b[1mdownload Dataset.TaiwanStockPrice, data_id: 006203\u001b[0m\n",
      "\u001b[32m2025-01-21 17:11:09.064\u001b[0m | \u001b[1mINFO    \u001b[0m | \u001b[36mFinMind.data.finmind_api\u001b[0m:\u001b[36mget_data\u001b[0m:\u001b[36m148\u001b[0m - \u001b[1mdownload Dataset.TaiwanStockDividend, data_id: 006203\u001b[0m\n",
      "/home/raul/.config/jupyterlab-desktop/jlab_server/lib/python3.12/site-packages/pandas/core/arraylike.py:399: RuntimeWarning: invalid value encountered in log\n",
      "  result = getattr(ufunc, method)(*inputs, **kwargs)\n",
      "\u001b[32m2025-01-21 17:11:09.475\u001b[0m | \u001b[1mINFO    \u001b[0m | \u001b[36mFinMind.data.finmind_api\u001b[0m:\u001b[36mget_data\u001b[0m:\u001b[36m148\u001b[0m - \u001b[1mdownload TaiwanStockPrice, data_id: TAIEX\u001b[0m\n",
      "\u001b[32m2025-01-21 17:11:11.047\u001b[0m | \u001b[1mINFO    \u001b[0m | \u001b[36mFinMind.data.finmind_api\u001b[0m:\u001b[36mget_data\u001b[0m:\u001b[36m148\u001b[0m - \u001b[1mdownload Dataset.TaiwanStockInfo, data_id: \u001b[0m\n"
     ]
    },
    {
     "name": "stdout",
     "output_type": "stream",
     "text": [
      "006204 永豐臺灣加權\n"
     ]
    },
    {
     "name": "stderr",
     "output_type": "stream",
     "text": [
      "\u001b[32m2025-01-21 17:11:11.633\u001b[0m | \u001b[1mINFO    \u001b[0m | \u001b[36mFinMind.data.finmind_api\u001b[0m:\u001b[36mget_data\u001b[0m:\u001b[36m148\u001b[0m - \u001b[1mdownload Dataset.TaiwanStockPrice, data_id: 006204\u001b[0m\n",
      "\u001b[32m2025-01-21 17:11:12.150\u001b[0m | \u001b[1mINFO    \u001b[0m | \u001b[36mFinMind.data.finmind_api\u001b[0m:\u001b[36mget_data\u001b[0m:\u001b[36m148\u001b[0m - \u001b[1mdownload Dataset.TaiwanStockDividend, data_id: 006204\u001b[0m\n",
      "/home/raul/.config/jupyterlab-desktop/jlab_server/lib/python3.12/site-packages/pandas/core/arraylike.py:399: RuntimeWarning: invalid value encountered in log\n",
      "  result = getattr(ufunc, method)(*inputs, **kwargs)\n",
      "\u001b[32m2025-01-21 17:11:12.680\u001b[0m | \u001b[1mINFO    \u001b[0m | \u001b[36mFinMind.data.finmind_api\u001b[0m:\u001b[36mget_data\u001b[0m:\u001b[36m148\u001b[0m - \u001b[1mdownload TaiwanStockPrice, data_id: TAIEX\u001b[0m\n",
      "\u001b[32m2025-01-21 17:11:14.245\u001b[0m | \u001b[1mINFO    \u001b[0m | \u001b[36mFinMind.data.finmind_api\u001b[0m:\u001b[36mget_data\u001b[0m:\u001b[36m148\u001b[0m - \u001b[1mdownload Dataset.TaiwanStockInfo, data_id: \u001b[0m\n"
     ]
    },
    {
     "name": "stdout",
     "output_type": "stream",
     "text": [
      "006205 富邦上証\n"
     ]
    },
    {
     "name": "stderr",
     "output_type": "stream",
     "text": [
      "\u001b[32m2025-01-21 17:11:14.867\u001b[0m | \u001b[1mINFO    \u001b[0m | \u001b[36mFinMind.data.finmind_api\u001b[0m:\u001b[36mget_data\u001b[0m:\u001b[36m148\u001b[0m - \u001b[1mdownload Dataset.TaiwanStockPrice, data_id: 006205\u001b[0m\n",
      "\u001b[32m2025-01-21 17:11:15.464\u001b[0m | \u001b[1mINFO    \u001b[0m | \u001b[36mFinMind.data.finmind_api\u001b[0m:\u001b[36mget_data\u001b[0m:\u001b[36m148\u001b[0m - \u001b[1mdownload Dataset.TaiwanStockDividend, data_id: 006205\u001b[0m\n",
      "/home/raul/.config/jupyterlab-desktop/jlab_server/lib/python3.12/site-packages/pandas/core/arraylike.py:399: RuntimeWarning: invalid value encountered in log\n",
      "  result = getattr(ufunc, method)(*inputs, **kwargs)\n",
      "\u001b[32m2025-01-21 17:11:16.171\u001b[0m | \u001b[1mINFO    \u001b[0m | \u001b[36mFinMind.data.finmind_api\u001b[0m:\u001b[36mget_data\u001b[0m:\u001b[36m148\u001b[0m - \u001b[1mdownload TaiwanStockPrice, data_id: TAIEX\u001b[0m\n",
      "\u001b[32m2025-01-21 17:11:17.715\u001b[0m | \u001b[1mINFO    \u001b[0m | \u001b[36mFinMind.data.finmind_api\u001b[0m:\u001b[36mget_data\u001b[0m:\u001b[36m148\u001b[0m - \u001b[1mdownload Dataset.TaiwanStockInfo, data_id: \u001b[0m\n"
     ]
    },
    {
     "name": "stdout",
     "output_type": "stream",
     "text": [
      "006206 元大上證50\n"
     ]
    },
    {
     "name": "stderr",
     "output_type": "stream",
     "text": [
      "\u001b[32m2025-01-21 17:11:18.327\u001b[0m | \u001b[1mINFO    \u001b[0m | \u001b[36mFinMind.data.finmind_api\u001b[0m:\u001b[36mget_data\u001b[0m:\u001b[36m148\u001b[0m - \u001b[1mdownload Dataset.TaiwanStockPrice, data_id: 006206\u001b[0m\n",
      "\u001b[32m2025-01-21 17:11:18.852\u001b[0m | \u001b[1mINFO    \u001b[0m | \u001b[36mFinMind.data.finmind_api\u001b[0m:\u001b[36mget_data\u001b[0m:\u001b[36m148\u001b[0m - \u001b[1mdownload Dataset.TaiwanStockDividend, data_id: 006206\u001b[0m\n",
      "/home/raul/.config/jupyterlab-desktop/jlab_server/lib/python3.12/site-packages/pandas/core/arraylike.py:399: RuntimeWarning: invalid value encountered in log\n",
      "  result = getattr(ufunc, method)(*inputs, **kwargs)\n",
      "\u001b[32m2025-01-21 17:11:19.136\u001b[0m | \u001b[1mINFO    \u001b[0m | \u001b[36mFinMind.data.finmind_api\u001b[0m:\u001b[36mget_data\u001b[0m:\u001b[36m148\u001b[0m - \u001b[1mdownload TaiwanStockPrice, data_id: TAIEX\u001b[0m\n",
      "\u001b[32m2025-01-21 17:11:20.617\u001b[0m | \u001b[1mINFO    \u001b[0m | \u001b[36mFinMind.data.finmind_api\u001b[0m:\u001b[36mget_data\u001b[0m:\u001b[36m148\u001b[0m - \u001b[1mdownload Dataset.TaiwanStockInfo, data_id: \u001b[0m\n"
     ]
    },
    {
     "name": "stdout",
     "output_type": "stream",
     "text": [
      "006207 復華滬深\n"
     ]
    },
    {
     "name": "stderr",
     "output_type": "stream",
     "text": [
      "\u001b[32m2025-01-21 17:11:21.213\u001b[0m | \u001b[1mINFO    \u001b[0m | \u001b[36mFinMind.data.finmind_api\u001b[0m:\u001b[36mget_data\u001b[0m:\u001b[36m148\u001b[0m - \u001b[1mdownload Dataset.TaiwanStockPrice, data_id: 006207\u001b[0m\n",
      "\u001b[32m2025-01-21 17:11:21.757\u001b[0m | \u001b[1mINFO    \u001b[0m | \u001b[36mFinMind.data.finmind_api\u001b[0m:\u001b[36mget_data\u001b[0m:\u001b[36m148\u001b[0m - \u001b[1mdownload Dataset.TaiwanStockDividend, data_id: 006207\u001b[0m\n",
      "/home/raul/.config/jupyterlab-desktop/jlab_server/lib/python3.12/site-packages/pandas/core/arraylike.py:399: RuntimeWarning: invalid value encountered in log\n",
      "  result = getattr(ufunc, method)(*inputs, **kwargs)\n",
      "\u001b[32m2025-01-21 17:11:22.030\u001b[0m | \u001b[1mINFO    \u001b[0m | \u001b[36mFinMind.data.finmind_api\u001b[0m:\u001b[36mget_data\u001b[0m:\u001b[36m148\u001b[0m - \u001b[1mdownload TaiwanStockPrice, data_id: TAIEX\u001b[0m\n",
      "\u001b[32m2025-01-21 17:11:23.546\u001b[0m | \u001b[1mINFO    \u001b[0m | \u001b[36mFinMind.data.finmind_api\u001b[0m:\u001b[36mget_data\u001b[0m:\u001b[36m148\u001b[0m - \u001b[1mdownload Dataset.TaiwanStockInfo, data_id: \u001b[0m\n"
     ]
    },
    {
     "name": "stdout",
     "output_type": "stream",
     "text": [
      "006208 富邦台50\n"
     ]
    },
    {
     "name": "stderr",
     "output_type": "stream",
     "text": [
      "\u001b[32m2025-01-21 17:11:24.332\u001b[0m | \u001b[1mINFO    \u001b[0m | \u001b[36mFinMind.data.finmind_api\u001b[0m:\u001b[36mget_data\u001b[0m:\u001b[36m148\u001b[0m - \u001b[1mdownload Dataset.TaiwanStockPrice, data_id: 006208\u001b[0m\n",
      "\u001b[32m2025-01-21 17:11:24.842\u001b[0m | \u001b[1mINFO    \u001b[0m | \u001b[36mFinMind.data.finmind_api\u001b[0m:\u001b[36mget_data\u001b[0m:\u001b[36m148\u001b[0m - \u001b[1mdownload Dataset.TaiwanStockDividend, data_id: 006208\u001b[0m\n",
      "/home/raul/.config/jupyterlab-desktop/jlab_server/lib/python3.12/site-packages/pandas/core/arraylike.py:399: RuntimeWarning: invalid value encountered in log\n",
      "  result = getattr(ufunc, method)(*inputs, **kwargs)\n",
      "\u001b[32m2025-01-21 17:11:25.575\u001b[0m | \u001b[1mINFO    \u001b[0m | \u001b[36mFinMind.data.finmind_api\u001b[0m:\u001b[36mget_data\u001b[0m:\u001b[36m148\u001b[0m - \u001b[1mdownload TaiwanStockPrice, data_id: TAIEX\u001b[0m\n",
      "\u001b[32m2025-01-21 17:11:27.207\u001b[0m | \u001b[1mINFO    \u001b[0m | \u001b[36mFinMind.data.finmind_api\u001b[0m:\u001b[36mget_data\u001b[0m:\u001b[36m148\u001b[0m - \u001b[1mdownload Dataset.TaiwanStockInfo, data_id: \u001b[0m\n"
     ]
    },
    {
     "name": "stdout",
     "output_type": "stream",
     "text": [
      "00631L 元大台灣50正2\n"
     ]
    },
    {
     "name": "stderr",
     "output_type": "stream",
     "text": [
      "\u001b[32m2025-01-21 17:11:27.819\u001b[0m | \u001b[1mINFO    \u001b[0m | \u001b[36mFinMind.data.finmind_api\u001b[0m:\u001b[36mget_data\u001b[0m:\u001b[36m148\u001b[0m - \u001b[1mdownload Dataset.TaiwanStockPrice, data_id: 00631L\u001b[0m\n",
      "\u001b[32m2025-01-21 17:11:28.370\u001b[0m | \u001b[1mINFO    \u001b[0m | \u001b[36mFinMind.data.finmind_api\u001b[0m:\u001b[36mget_data\u001b[0m:\u001b[36m148\u001b[0m - \u001b[1mdownload Dataset.TaiwanStockDividend, data_id: 00631L\u001b[0m\n",
      "/home/raul/.config/jupyterlab-desktop/jlab_server/lib/python3.12/site-packages/pandas/core/arraylike.py:399: RuntimeWarning: invalid value encountered in log\n",
      "  result = getattr(ufunc, method)(*inputs, **kwargs)\n",
      "\u001b[32m2025-01-21 17:11:28.649\u001b[0m | \u001b[1mINFO    \u001b[0m | \u001b[36mFinMind.data.finmind_api\u001b[0m:\u001b[36mget_data\u001b[0m:\u001b[36m148\u001b[0m - \u001b[1mdownload TaiwanStockPrice, data_id: TAIEX\u001b[0m\n",
      "\u001b[32m2025-01-21 17:11:30.210\u001b[0m | \u001b[1mINFO    \u001b[0m | \u001b[36mFinMind.data.finmind_api\u001b[0m:\u001b[36mget_data\u001b[0m:\u001b[36m148\u001b[0m - \u001b[1mdownload Dataset.TaiwanStockInfo, data_id: \u001b[0m\n"
     ]
    },
    {
     "name": "stdout",
     "output_type": "stream",
     "text": [
      "00632R 元大台灣50反1\n"
     ]
    },
    {
     "name": "stderr",
     "output_type": "stream",
     "text": [
      "\u001b[32m2025-01-21 17:11:30.933\u001b[0m | \u001b[1mINFO    \u001b[0m | \u001b[36mFinMind.data.finmind_api\u001b[0m:\u001b[36mget_data\u001b[0m:\u001b[36m148\u001b[0m - \u001b[1mdownload Dataset.TaiwanStockPrice, data_id: 00632R\u001b[0m\n",
      "\u001b[32m2025-01-21 17:11:31.632\u001b[0m | \u001b[1mINFO    \u001b[0m | \u001b[36mFinMind.data.finmind_api\u001b[0m:\u001b[36mget_data\u001b[0m:\u001b[36m148\u001b[0m - \u001b[1mdownload Dataset.TaiwanStockDividend, data_id: 00632R\u001b[0m\n",
      "/home/raul/.config/jupyterlab-desktop/jlab_server/lib/python3.12/site-packages/pandas/core/arraylike.py:399: RuntimeWarning: invalid value encountered in log\n",
      "  result = getattr(ufunc, method)(*inputs, **kwargs)\n",
      "\u001b[32m2025-01-21 17:11:32.112\u001b[0m | \u001b[1mINFO    \u001b[0m | \u001b[36mFinMind.data.finmind_api\u001b[0m:\u001b[36mget_data\u001b[0m:\u001b[36m148\u001b[0m - \u001b[1mdownload TaiwanStockPrice, data_id: TAIEX\u001b[0m\n",
      "\u001b[32m2025-01-21 17:11:33.648\u001b[0m | \u001b[1mINFO    \u001b[0m | \u001b[36mFinMind.data.finmind_api\u001b[0m:\u001b[36mget_data\u001b[0m:\u001b[36m148\u001b[0m - \u001b[1mdownload Dataset.TaiwanStockInfo, data_id: \u001b[0m\n"
     ]
    },
    {
     "name": "stdout",
     "output_type": "stream",
     "text": [
      "00633L 富邦上証正2\n"
     ]
    },
    {
     "name": "stderr",
     "output_type": "stream",
     "text": [
      "\u001b[32m2025-01-21 17:11:34.251\u001b[0m | \u001b[1mINFO    \u001b[0m | \u001b[36mFinMind.data.finmind_api\u001b[0m:\u001b[36mget_data\u001b[0m:\u001b[36m148\u001b[0m - \u001b[1mdownload Dataset.TaiwanStockPrice, data_id: 00633L\u001b[0m\n",
      "\u001b[32m2025-01-21 17:11:34.728\u001b[0m | \u001b[1mINFO    \u001b[0m | \u001b[36mFinMind.data.finmind_api\u001b[0m:\u001b[36mget_data\u001b[0m:\u001b[36m148\u001b[0m - \u001b[1mdownload Dataset.TaiwanStockDividend, data_id: 00633L\u001b[0m\n",
      "/home/raul/.config/jupyterlab-desktop/jlab_server/lib/python3.12/site-packages/pandas/core/arraylike.py:399: RuntimeWarning: invalid value encountered in log\n",
      "  result = getattr(ufunc, method)(*inputs, **kwargs)\n",
      "\u001b[32m2025-01-21 17:11:35.097\u001b[0m | \u001b[1mINFO    \u001b[0m | \u001b[36mFinMind.data.finmind_api\u001b[0m:\u001b[36mget_data\u001b[0m:\u001b[36m148\u001b[0m - \u001b[1mdownload TaiwanStockPrice, data_id: TAIEX\u001b[0m\n",
      "\u001b[32m2025-01-21 17:11:36.750\u001b[0m | \u001b[1mINFO    \u001b[0m | \u001b[36mFinMind.data.finmind_api\u001b[0m:\u001b[36mget_data\u001b[0m:\u001b[36m148\u001b[0m - \u001b[1mdownload Dataset.TaiwanStockInfo, data_id: \u001b[0m\n"
     ]
    },
    {
     "name": "stdout",
     "output_type": "stream",
     "text": [
      "00634R 富邦上証反1\n"
     ]
    },
    {
     "name": "stderr",
     "output_type": "stream",
     "text": [
      "\u001b[32m2025-01-21 17:11:39.991\u001b[0m | \u001b[1mINFO    \u001b[0m | \u001b[36mFinMind.data.finmind_api\u001b[0m:\u001b[36mget_data\u001b[0m:\u001b[36m148\u001b[0m - \u001b[1mdownload Dataset.TaiwanStockPrice, data_id: 00634R\u001b[0m\n",
      "\u001b[32m2025-01-21 17:11:40.501\u001b[0m | \u001b[1mINFO    \u001b[0m | \u001b[36mFinMind.data.finmind_api\u001b[0m:\u001b[36mget_data\u001b[0m:\u001b[36m148\u001b[0m - \u001b[1mdownload Dataset.TaiwanStockDividend, data_id: 00634R\u001b[0m\n",
      "/home/raul/.config/jupyterlab-desktop/jlab_server/lib/python3.12/site-packages/pandas/core/arraylike.py:399: RuntimeWarning: invalid value encountered in log\n",
      "  result = getattr(ufunc, method)(*inputs, **kwargs)\n",
      "\u001b[32m2025-01-21 17:11:40.781\u001b[0m | \u001b[1mINFO    \u001b[0m | \u001b[36mFinMind.data.finmind_api\u001b[0m:\u001b[36mget_data\u001b[0m:\u001b[36m148\u001b[0m - \u001b[1mdownload TaiwanStockPrice, data_id: TAIEX\u001b[0m\n",
      "\u001b[32m2025-01-21 17:11:42.320\u001b[0m | \u001b[1mINFO    \u001b[0m | \u001b[36mFinMind.data.finmind_api\u001b[0m:\u001b[36mget_data\u001b[0m:\u001b[36m148\u001b[0m - \u001b[1mdownload Dataset.TaiwanStockInfo, data_id: \u001b[0m\n"
     ]
    },
    {
     "name": "stdout",
     "output_type": "stream",
     "text": [
      "00635U 期元大S&P黃金\n"
     ]
    },
    {
     "name": "stderr",
     "output_type": "stream",
     "text": [
      "\u001b[32m2025-01-21 17:11:42.896\u001b[0m | \u001b[1mINFO    \u001b[0m | \u001b[36mFinMind.data.finmind_api\u001b[0m:\u001b[36mget_data\u001b[0m:\u001b[36m148\u001b[0m - \u001b[1mdownload Dataset.TaiwanStockPrice, data_id: 00635U\u001b[0m\n",
      "\u001b[32m2025-01-21 17:11:43.473\u001b[0m | \u001b[1mINFO    \u001b[0m | \u001b[36mFinMind.data.finmind_api\u001b[0m:\u001b[36mget_data\u001b[0m:\u001b[36m148\u001b[0m - \u001b[1mdownload Dataset.TaiwanStockDividend, data_id: 00635U\u001b[0m\n",
      "/home/raul/.config/jupyterlab-desktop/jlab_server/lib/python3.12/site-packages/pandas/core/arraylike.py:399: RuntimeWarning: invalid value encountered in log\n",
      "  result = getattr(ufunc, method)(*inputs, **kwargs)\n",
      "\u001b[32m2025-01-21 17:11:43.872\u001b[0m | \u001b[1mINFO    \u001b[0m | \u001b[36mFinMind.data.finmind_api\u001b[0m:\u001b[36mget_data\u001b[0m:\u001b[36m148\u001b[0m - \u001b[1mdownload TaiwanStockPrice, data_id: TAIEX\u001b[0m\n",
      "\u001b[32m2025-01-21 17:11:45.589\u001b[0m | \u001b[1mINFO    \u001b[0m | \u001b[36mFinMind.data.finmind_api\u001b[0m:\u001b[36mget_data\u001b[0m:\u001b[36m148\u001b[0m - \u001b[1mdownload Dataset.TaiwanStockInfo, data_id: \u001b[0m\n"
     ]
    },
    {
     "name": "stdout",
     "output_type": "stream",
     "text": [
      "00636 國泰中國A50\n"
     ]
    },
    {
     "name": "stderr",
     "output_type": "stream",
     "text": [
      "\u001b[32m2025-01-21 17:11:48.560\u001b[0m | \u001b[1mINFO    \u001b[0m | \u001b[36mFinMind.data.finmind_api\u001b[0m:\u001b[36mget_data\u001b[0m:\u001b[36m148\u001b[0m - \u001b[1mdownload Dataset.TaiwanStockPrice, data_id: 00636\u001b[0m\n",
      "\u001b[32m2025-01-21 17:11:49.064\u001b[0m | \u001b[1mINFO    \u001b[0m | \u001b[36mFinMind.data.finmind_api\u001b[0m:\u001b[36mget_data\u001b[0m:\u001b[36m148\u001b[0m - \u001b[1mdownload Dataset.TaiwanStockDividend, data_id: 00636\u001b[0m\n",
      "/home/raul/.config/jupyterlab-desktop/jlab_server/lib/python3.12/site-packages/pandas/core/arraylike.py:399: RuntimeWarning: invalid value encountered in log\n",
      "  result = getattr(ufunc, method)(*inputs, **kwargs)\n",
      "\u001b[32m2025-01-21 17:11:49.349\u001b[0m | \u001b[1mINFO    \u001b[0m | \u001b[36mFinMind.data.finmind_api\u001b[0m:\u001b[36mget_data\u001b[0m:\u001b[36m148\u001b[0m - \u001b[1mdownload TaiwanStockPrice, data_id: TAIEX\u001b[0m\n",
      "\u001b[32m2025-01-21 17:11:50.873\u001b[0m | \u001b[1mINFO    \u001b[0m | \u001b[36mFinMind.data.finmind_api\u001b[0m:\u001b[36mget_data\u001b[0m:\u001b[36m148\u001b[0m - \u001b[1mdownload Dataset.TaiwanStockInfo, data_id: \u001b[0m\n"
     ]
    },
    {
     "name": "stdout",
     "output_type": "stream",
     "text": [
      "00636K 國泰中國A50+U\n"
     ]
    },
    {
     "name": "stderr",
     "output_type": "stream",
     "text": [
      "\u001b[32m2025-01-21 17:11:54.004\u001b[0m | \u001b[1mINFO    \u001b[0m | \u001b[36mFinMind.data.finmind_api\u001b[0m:\u001b[36mget_data\u001b[0m:\u001b[36m148\u001b[0m - \u001b[1mdownload Dataset.TaiwanStockPrice, data_id: 00636K\u001b[0m\n",
      "\u001b[32m2025-01-21 17:11:54.462\u001b[0m | \u001b[1mINFO    \u001b[0m | \u001b[36mFinMind.data.finmind_api\u001b[0m:\u001b[36mget_data\u001b[0m:\u001b[36m148\u001b[0m - \u001b[1mdownload Dataset.TaiwanStockDividend, data_id: 00636K\u001b[0m\n",
      "/home/raul/.config/jupyterlab-desktop/jlab_server/lib/python3.12/site-packages/pandas/core/arraylike.py:399: RuntimeWarning: invalid value encountered in log\n",
      "  result = getattr(ufunc, method)(*inputs, **kwargs)\n",
      "\u001b[32m2025-01-21 17:11:55.077\u001b[0m | \u001b[1mINFO    \u001b[0m | \u001b[36mFinMind.data.finmind_api\u001b[0m:\u001b[36mget_data\u001b[0m:\u001b[36m148\u001b[0m - \u001b[1mdownload TaiwanStockPrice, data_id: TAIEX\u001b[0m\n",
      "\u001b[32m2025-01-21 17:11:56.946\u001b[0m | \u001b[1mINFO    \u001b[0m | \u001b[36mFinMind.data.finmind_api\u001b[0m:\u001b[36mget_data\u001b[0m:\u001b[36m148\u001b[0m - \u001b[1mdownload Dataset.TaiwanStockInfo, data_id: \u001b[0m\n"
     ]
    },
    {
     "name": "stdout",
     "output_type": "stream",
     "text": [
      "00637L 元大滬深300正2\n"
     ]
    },
    {
     "name": "stderr",
     "output_type": "stream",
     "text": [
      "\u001b[32m2025-01-21 17:11:57.578\u001b[0m | \u001b[1mINFO    \u001b[0m | \u001b[36mFinMind.data.finmind_api\u001b[0m:\u001b[36mget_data\u001b[0m:\u001b[36m148\u001b[0m - \u001b[1mdownload Dataset.TaiwanStockPrice, data_id: 00637L\u001b[0m\n",
      "\u001b[32m2025-01-21 17:11:58.122\u001b[0m | \u001b[1mINFO    \u001b[0m | \u001b[36mFinMind.data.finmind_api\u001b[0m:\u001b[36mget_data\u001b[0m:\u001b[36m148\u001b[0m - \u001b[1mdownload Dataset.TaiwanStockDividend, data_id: 00637L\u001b[0m\n",
      "/home/raul/.config/jupyterlab-desktop/jlab_server/lib/python3.12/site-packages/pandas/core/arraylike.py:399: RuntimeWarning: invalid value encountered in log\n",
      "  result = getattr(ufunc, method)(*inputs, **kwargs)\n",
      "\u001b[32m2025-01-21 17:11:58.399\u001b[0m | \u001b[1mINFO    \u001b[0m | \u001b[36mFinMind.data.finmind_api\u001b[0m:\u001b[36mget_data\u001b[0m:\u001b[36m148\u001b[0m - \u001b[1mdownload TaiwanStockPrice, data_id: TAIEX\u001b[0m\n",
      "\u001b[32m2025-01-21 17:12:00.091\u001b[0m | \u001b[1mINFO    \u001b[0m | \u001b[36mFinMind.data.finmind_api\u001b[0m:\u001b[36mget_data\u001b[0m:\u001b[36m148\u001b[0m - \u001b[1mdownload Dataset.TaiwanStockInfo, data_id: \u001b[0m\n"
     ]
    },
    {
     "name": "stdout",
     "output_type": "stream",
     "text": [
      "00638R 元大滬深300反1\n"
     ]
    },
    {
     "name": "stderr",
     "output_type": "stream",
     "text": [
      "\u001b[32m2025-01-21 17:12:00.763\u001b[0m | \u001b[1mINFO    \u001b[0m | \u001b[36mFinMind.data.finmind_api\u001b[0m:\u001b[36mget_data\u001b[0m:\u001b[36m148\u001b[0m - \u001b[1mdownload Dataset.TaiwanStockPrice, data_id: 00638R\u001b[0m\n",
      "\u001b[32m2025-01-21 17:12:01.392\u001b[0m | \u001b[1mINFO    \u001b[0m | \u001b[36mFinMind.data.finmind_api\u001b[0m:\u001b[36mget_data\u001b[0m:\u001b[36m148\u001b[0m - \u001b[1mdownload Dataset.TaiwanStockDividend, data_id: 00638R\u001b[0m\n",
      "/home/raul/.config/jupyterlab-desktop/jlab_server/lib/python3.12/site-packages/pandas/core/arraylike.py:399: RuntimeWarning: invalid value encountered in log\n",
      "  result = getattr(ufunc, method)(*inputs, **kwargs)\n",
      "\u001b[32m2025-01-21 17:12:01.666\u001b[0m | \u001b[1mINFO    \u001b[0m | \u001b[36mFinMind.data.finmind_api\u001b[0m:\u001b[36mget_data\u001b[0m:\u001b[36m148\u001b[0m - \u001b[1mdownload TaiwanStockPrice, data_id: TAIEX\u001b[0m\n",
      "\u001b[32m2025-01-21 17:12:03.340\u001b[0m | \u001b[1mINFO    \u001b[0m | \u001b[36mFinMind.data.finmind_api\u001b[0m:\u001b[36mget_data\u001b[0m:\u001b[36m148\u001b[0m - \u001b[1mdownload Dataset.TaiwanStockInfo, data_id: \u001b[0m\n"
     ]
    },
    {
     "name": "stdout",
     "output_type": "stream",
     "text": [
      "00639 富邦深100\n"
     ]
    },
    {
     "name": "stderr",
     "output_type": "stream",
     "text": [
      "\u001b[32m2025-01-21 17:12:03.985\u001b[0m | \u001b[1mINFO    \u001b[0m | \u001b[36mFinMind.data.finmind_api\u001b[0m:\u001b[36mget_data\u001b[0m:\u001b[36m148\u001b[0m - \u001b[1mdownload Dataset.TaiwanStockPrice, data_id: 00639\u001b[0m\n",
      "\u001b[32m2025-01-21 17:12:04.626\u001b[0m | \u001b[1mINFO    \u001b[0m | \u001b[36mFinMind.data.finmind_api\u001b[0m:\u001b[36mget_data\u001b[0m:\u001b[36m148\u001b[0m - \u001b[1mdownload Dataset.TaiwanStockDividend, data_id: 00639\u001b[0m\n",
      "/home/raul/.config/jupyterlab-desktop/jlab_server/lib/python3.12/site-packages/pandas/core/arraylike.py:399: RuntimeWarning: invalid value encountered in log\n",
      "  result = getattr(ufunc, method)(*inputs, **kwargs)\n",
      "\u001b[32m2025-01-21 17:12:05.113\u001b[0m | \u001b[1mINFO    \u001b[0m | \u001b[36mFinMind.data.finmind_api\u001b[0m:\u001b[36mget_data\u001b[0m:\u001b[36m148\u001b[0m - \u001b[1mdownload TaiwanStockPrice, data_id: TAIEX\u001b[0m\n",
      "\u001b[32m2025-01-21 17:12:06.615\u001b[0m | \u001b[1mINFO    \u001b[0m | \u001b[36mFinMind.data.finmind_api\u001b[0m:\u001b[36mget_data\u001b[0m:\u001b[36m148\u001b[0m - \u001b[1mdownload Dataset.TaiwanStockInfo, data_id: \u001b[0m\n"
     ]
    },
    {
     "name": "stdout",
     "output_type": "stream",
     "text": [
      "00640L 富邦日本正2\n"
     ]
    },
    {
     "name": "stderr",
     "output_type": "stream",
     "text": [
      "\u001b[32m2025-01-21 17:12:07.279\u001b[0m | \u001b[1mINFO    \u001b[0m | \u001b[36mFinMind.data.finmind_api\u001b[0m:\u001b[36mget_data\u001b[0m:\u001b[36m148\u001b[0m - \u001b[1mdownload Dataset.TaiwanStockPrice, data_id: 00640L\u001b[0m\n",
      "\u001b[32m2025-01-21 17:12:07.820\u001b[0m | \u001b[1mINFO    \u001b[0m | \u001b[36mFinMind.data.finmind_api\u001b[0m:\u001b[36mget_data\u001b[0m:\u001b[36m148\u001b[0m - \u001b[1mdownload Dataset.TaiwanStockDividend, data_id: 00640L\u001b[0m\n",
      "\u001b[32m2025-01-21 17:12:08.099\u001b[0m | \u001b[1mINFO    \u001b[0m | \u001b[36mFinMind.data.finmind_api\u001b[0m:\u001b[36mget_data\u001b[0m:\u001b[36m148\u001b[0m - \u001b[1mdownload TaiwanStockPrice, data_id: TAIEX\u001b[0m\n"
     ]
    }
   ],
   "source": [
    "start_date=\"2020-01-01\"\n",
    "end_date=\"2025-01-01\"\n",
    "trader_fund=1_000_000.0\n",
    "fee=0.001425\n",
    "objs = []\n",
    "candidates = []\n",
    "\n",
    "for index, row in stock_list_df.iterrows():\n",
    "    stock_id = row[\"stock_id\"]\n",
    "    stock_name = row[\"stock_name\"]\n",
    "    \n",
    "    if stock_id in stock_id_ignored:\n",
    "        continue\n",
    "    else:\n",
    "        print(stock_id, stock_name)\n",
    "        \n",
    "    obj = strategies.BackTest(\n",
    "         stock_id=stock_id,\n",
    "         start_date=start_date,\n",
    "         end_date=end_date,\n",
    "         trader_fund=trader_fund,\n",
    "         fee=fee,\n",
    "         data_loader=api,\n",
    "    )\n",
    "    obj.add_strategy(Kd2)\n",
    "    obj.simulate()\n",
    "    objs.append(obj)\n",
    "    \n",
    "    if index>30: break\n",
    "    \n",
    "    time.sleep(1)\n"
   ]
  },
  {
   "cell_type": "code",
   "execution_count": 31,
   "id": "83098524-7933-4c4e-a77d-5a653b8dc571",
   "metadata": {},
   "outputs": [
    {
     "name": "stdout",
     "output_type": "stream",
     "text": [
      "使用次數: 0\n",
      "api 使用上限 600\n",
      "200\n",
      "{'msg': 'success', 'status': 200, 'email_verify': True, 'user_id': 'raulhsiao', 'email': 'raulhsiao@gmail.com', 'level': 1, 'end_date': '', 'user_count': 0, 'api_request_limit': 600, 'api_request_limit_hour': 600, 'api_request_limit_day': 600, 'level_title': 'Free', 'is_old_user': 0, 'BackerInfo': {'subscription_begin_date': '', 'subscription_expired_date': '', 'api_request_limit': 0, 'msg': '', 'status_code': 200}, 'SponsorInfo': {'subscription_begin_date': '', 'subscription_expired_date': '', 'api_request_limit': 0, 'msg': '', 'status_code': 200}, 'SponsorProInfo': {'subscription_begin_date': '', 'subscription_expired_date': '', 'api_request_limit': 0, 'msg': '', 'status_code': 200}}\n"
     ]
    }
   ],
   "source": [
    "import requests\n",
    "\n",
    "url = \"https://api.web.finmindtrade.com/v2/user_info\"\n",
    "payload = {\n",
    "    \"token\": token,\n",
    "}\n",
    "resp = requests.get(url, params=payload)\n",
    "print(\"使用次數:\", resp.json()[\"user_count\"])  # 使用次數\n",
    "print(\"api 使用上限\", resp.json()[\"api_request_limit\"])  # api 使用上限\n",
    "print(resp.status_code)\n",
    "print(resp.json())\n"
   ]
  },
  {
   "cell_type": "code",
   "execution_count": 1,
   "id": "d231003b-5003-47c6-97f5-94130079a2f5",
   "metadata": {},
   "outputs": [
    {
     "ename": "NameError",
     "evalue": "name 'objs' is not defined",
     "output_type": "error",
     "traceback": [
      "\u001b[0;31m---------------------------------------------------------------------------\u001b[0m",
      "\u001b[0;31mNameError\u001b[0m                                 Traceback (most recent call last)",
      "Cell \u001b[0;32mIn[1], line 1\u001b[0m\n\u001b[0;32m----> 1\u001b[0m \u001b[38;5;28;01mfor\u001b[39;00m obj \u001b[38;5;129;01min\u001b[39;00m \u001b[43mobjs\u001b[49m:\n\u001b[1;32m      2\u001b[0m     \u001b[38;5;28;01mif\u001b[39;00m obj\u001b[38;5;241m.\u001b[39mfinal_stats\u001b[38;5;241m.\u001b[39mAnnualReturnPer \u001b[38;5;241m>\u001b[39m \u001b[38;5;241m5.0\u001b[39m:\n\u001b[1;32m      3\u001b[0m         \u001b[38;5;28mprint\u001b[39m(obj\u001b[38;5;241m.\u001b[39mstock_id, obj\u001b[38;5;241m.\u001b[39mfinal_stats\u001b[38;5;241m.\u001b[39mAnnualReturnPer)\n",
      "\u001b[0;31mNameError\u001b[0m: name 'objs' is not defined"
     ]
    }
   ],
   "source": [
    "for obj in objs:\n",
    "    if obj.final_stats.AnnualReturnPer > 5.0:\n",
    "        print(obj.stock_id, obj.final_stats.AnnualReturnPer)\n",
    "    elif (obj.final_stats.AnnualReturnPer < 5.0 and obj.final_stats.AnnualReturnPer > 0.0):\n",
    "        print(\"\\t\\t\", obj.stock_id, obj.final_stats.AnnualReturnPer)\n",
    "    else:\n",
    "        print(\"\\t\\t\\t\\t\", obj.stock_id, obj.final_stats.AnnualReturnPer)\n",
    "obj.s"
   ]
  },
  {
   "cell_type": "code",
   "execution_count": 117,
   "id": "9367fb92-f1af-4f92-98ca-19a52af6064c",
   "metadata": {
    "collapsed": true,
    "jupyter": {
     "outputs_hidden": true
    }
   },
   "outputs": [
    {
     "name": "stdout",
     "output_type": "stream",
     "text": [
      "<!DOCTYPE html>\n",
      "<html lang=\"zh-Hant-tw\">\n",
      " <head>\n",
      "  <meta charset=\"utf-8\"/>\n",
      "  <meta content=\"width=device-width, initial-scale=1.0, minimum-scale=1.0, maximum-scale=1.0, user-scalable=no\" name=\"viewport\"/>\n",
      "  <meta content=\"IE=edge\" http-equiv=\"X-UA-Compatible\"/>\n",
      "  <title>\n",
      "   國內成分股ETF - TWSE 臺灣證券交易所\n",
      "  </title>\n",
      "  <link href=\"/favicon.ico\" rel=\"shortcut icon\"/>\n",
      "  <meta content=\"臺灣證券交易所全球資訊網介紹公司組織、沿革外，並分為「交易資訊」、「上市公司」、 「產品與服務」、「結算服務」、「市場公告」、「法令規章」、「投資人教育」、「統計報表」等，期能提供投資大眾即時完整之訊息，使投資大眾對本公司業務及市場動態有更深一層的瞭解。\" name=\"description\"/>\n",
      "  <meta content=\"證券,上市,大盤,國際股市指數,匯率,個股行情等,年報,投資,期貨,台灣50,ETF\" name=\"keywords\"/>\n",
      "  <meta content=\"TWSE\" name=\"author\"/>\n",
      "  <link href=\"/res/css/web.css\" rel=\"stylesheet\"/>\n",
      "  <meta content=\"web\" name=\"layout\"/>\n",
      "  <meta content=\"etf\" name=\"sidebar\"/>\n",
      "  <link href=\"/res/css/web-report.css\" rel=\"stylesheet\"/>\n",
      "  <style>\n",
      "   .rwd-table th{min-width:auto;max-width:none}.rwd-table th:nth-child(1){width:8em}.rwd-table small:not(:empty){display:inline-block;font-size:.8em;border-radius:4px;padding:2px 8px;margin-left:1em;background-color:#fc6}\n",
      "  </style>\n",
      "  <script async=\"\" src=\"https://www.googletagmanager.com/gtag/js?id=G-J2HVMN6FVP\">\n",
      "  </script>\n",
      " </head>\n",
      " <body class=\"web\">\n",
      "  <div id=\"layout\">\n",
      "   <header aria-level=\"1\" id=\"header\" role=\"heading\">\n",
      "    <div class=\"container\">\n",
      "     <a accesskey=\"U\" href=\"#U\" title=\"頁眉區 (Alt-U)\">\n",
      "      :::\n",
      "     </a>\n",
      "     <a class=\"logo\" href=\"/zh/index.html\" title=\"臺灣證券交易所\">\n",
      "      <h1 class=\"twse-logo\">\n",
      "       <i aria-hidden=\"true\">\n",
      "       </i>\n",
      "       <span>\n",
      "        臺灣證券交易所\n",
      "       </span>\n",
      "      </h1>\n",
      "     </a>\n",
      "     <ul aria-label=\"站內連結\" class=\"nav\" role=\"navigation\">\n",
      "      <li class=\"sizer\">\n",
      "       <ul role=\"list\">\n",
      "        <li>\n",
      "         字體大小\n",
      "        </li>\n",
      "        <li role=\"listitem\">\n",
      "         <input id=\"size-S\" name=\"font-size\" title=\"小號字體(方向鍵切換)\" type=\"radio\"/>\n",
      "         <label for=\"size-S\" title=\"小號字\">\n",
      "          A\n",
      "         </label>\n",
      "        </li>\n",
      "        <li role=\"listitem\">\n",
      "         <input checked=\"\" id=\"size-M\" name=\"font-size\" title=\"中號字體(方向鍵切換)\" type=\"radio\"/>\n",
      "         <label for=\"size-M\" title=\"中號字\">\n",
      "          A\n",
      "         </label>\n",
      "        </li>\n",
      "        <li role=\"listitem\">\n",
      "         <input id=\"size-L\" name=\"font-size\" title=\"大號字體(方向鍵切換)\" type=\"radio\"/>\n",
      "         <label for=\"size-L\" title=\"大號字\">\n",
      "          A\n",
      "         </label>\n",
      "        </li>\n",
      "       </ul>\n",
      "      </li>\n",
      "      <li>\n",
      "       <a class=\"pages-aria\" href=\"https://accessibility.twse.com.tw/zh/\" target=\"_blank\">\n",
      "        友善服務專區\n",
      "       </a>\n",
      "      </li>\n",
      "      <li>\n",
      "       <a class=\"pages-member\" href=\"//member.twse.com.tw/account/\">\n",
      "        會員專區\n",
      "       </a>\n",
      "      </li>\n",
      "      <li>\n",
      "       <a class=\"pages-tables\" href=\"/zh/report-index.html\">\n",
      "        報表索引\n",
      "       </a>\n",
      "      </li>\n",
      "      <li>\n",
      "       <a class=\"lang-jp\" href=\"/jp/\">\n",
      "        日本語ホームページ\n",
      "       </a>\n",
      "      </li>\n",
      "      <li>\n",
      "       <a class=\"lang-en\" href=\"/en/\">\n",
      "        English Home\n",
      "       </a>\n",
      "      </li>\n",
      "      <li>\n",
      "       <a class=\"search\" href=\"/zh/search.html\" title=\"搜尋本站\">\n",
      "        <span>\n",
      "         搜尋\n",
      "        </span>\n",
      "       </a>\n",
      "      </li>\n",
      "     </ul>\n",
      "     <ul aria-label=\"站外連結\" class=\"site\" role=\"navigation\">\n",
      "      <li>\n",
      "       <a href=\"https://mops.twse.com.tw/mops/web/index\" target=\"_blank\">\n",
      "        公開資訊觀測站\n",
      "       </a>\n",
      "      </li>\n",
      "      <li>\n",
      "       <a href=\"https://mops.twse.com.tw/mops/web/ezsearch\" target=\"_blank\">\n",
      "        公告快易查\n",
      "       </a>\n",
      "      </li>\n",
      "      <li>\n",
      "       <a href=\"https://mis.twse.com.tw/stock/index\" target=\"_blank\">\n",
      "        基本市況報導\n",
      "       </a>\n",
      "      </li>\n",
      "      <li class=\"pull-down\">\n",
      "       <a aria-expanded=\"false\" aria-label=\"「TWSE 網站」下拉選單\" role=\"button\" tabindex=\"0\">\n",
      "        TWSE 網站：國內業務宣導網站\n",
      "       </a>\n",
      "       <div aria-label=\"相關網站\">\n",
      "        <i>\n",
      "         △\n",
      "        </i>\n",
      "        <ul>\n",
      "         <li>\n",
      "          <a href=\"https://dsp.twse.com.tw/\" target=\"_blank\">\n",
      "           國內業務宣導網站\n",
      "          </a>\n",
      "         </li>\n",
      "         <li>\n",
      "          <a href=\"/TIB/zh/index.html\" target=\"_blank\">\n",
      "           臺灣創新板(TIB)專區\n",
      "          </a>\n",
      "         </li>\n",
      "         <li>\n",
      "          <a href=\"/zh/ETFortune/index\" target=\"_blank\">\n",
      "           e添富\n",
      "          </a>\n",
      "         </li>\n",
      "         <li>\n",
      "          <a href=\"https://mops.twse.com.tw/IPO/imformationhub.html\" target=\"_blank\">\n",
      "           IPO資訊揭露專區\n",
      "          </a>\n",
      "         </li>\n",
      "         <li>\n",
      "          <a href=\"https://esg.twse.com.tw/ESG/front/tw/#/main/home\" target=\"_blank\">\n",
      "           ESG InfoHub\n",
      "          </a>\n",
      "         </li>\n",
      "         <li>\n",
      "          <a href=\"https://cgc.twse.com.tw/\" target=\"_blank\">\n",
      "           公司治理中心\n",
      "          </a>\n",
      "         </li>\n",
      "         <li>\n",
      "          <a href=\"https://eshop.twse.com.tw/zh/\" target=\"_blank\">\n",
      "           網路資訊商店\n",
      "          </a>\n",
      "         </li>\n",
      "         <li>\n",
      "          <a href=\"https://webpro.twse.com.tw/\" target=\"_blank\">\n",
      "           WebPro 3.0 影音傳播網\n",
      "          </a>\n",
      "         </li>\n",
      "         <li>\n",
      "          <a href=\"/CSR/zh/index.html\" target=\"_blank\">\n",
      "           永續發展\n",
      "          </a>\n",
      "         </li>\n",
      "         <li>\n",
      "          <a href=\"https://irengage.taiwanindex.com.tw/\" target=\"_blank\">\n",
      "           IR議合服務平台\n",
      "          </a>\n",
      "         </li>\n",
      "         <li>\n",
      "          <a href=\"https://shl.twse.com.tw/\" target=\"_blank\">\n",
      "           宅在家學習網\n",
      "          </a>\n",
      "         </li>\n",
      "         <li>\n",
      "          <a href=\"https://investoredu.twse.com.tw/Pages/TWSE.aspx\" target=\"_blank\">\n",
      "           投資人知識網\n",
      "          </a>\n",
      "         </li>\n",
      "         <li>\n",
      "          <a href=\"/zh/products/colo/colo.html\" target=\"_blank\">\n",
      "           Co-Location主機共置\n",
      "          </a>\n",
      "         </li>\n",
      "         <li>\n",
      "          <a href=\"http://twse-regulation.twse.com.tw/\" target=\"_blank\">\n",
      "           法規分享知識庫\n",
      "          </a>\n",
      "         </li>\n",
      "         <li>\n",
      "          <a href=\"https://investment.twse.com.tw\" target=\"_blank\">\n",
      "           投資資訊中心2.0\n",
      "          </a>\n",
      "         </li>\n",
      "         <li>\n",
      "          <a href=\"https://www.taiwanindex.com.tw/\" target=\"_blank\">\n",
      "           臺灣指數公司\n",
      "          </a>\n",
      "         </li>\n",
      "         <li>\n",
      "          <a href=\"https://www.tcx.com.tw/\" target=\"_blank\">\n",
      "           臺灣碳權交易所\n",
      "          </a>\n",
      "         </li>\n",
      "        </ul>\n",
      "        <div>\n",
      "        </div>\n",
      "        <ul aria-label=\"工具列(手機版)\" class=\"mob-menu\" role=\"navigation\">\n",
      "         <li>\n",
      "          <a class=\"search\" href=\"/zh/search.html\" title=\"搜尋本站\">\n",
      "           <span>\n",
      "            搜尋\n",
      "           </span>\n",
      "          </a>\n",
      "         </li>\n",
      "         <li>\n",
      "          <button aria-expanded=\"false\" aria-label=\"選單開關\" class=\"menu-btn\" role=\"button\" tabindex=\"0\" title=\"選單開關 (Enter展開)\">\n",
      "           <div class=\"line\">\n",
      "            <span>\n",
      "            </span>\n",
      "           </div>\n",
      "          </button>\n",
      "          <div aria-hidden=\"true\" aria-label=\"選單(手機版)\" id=\"menu-box\" role=\"menu\">\n",
      "           <div class=\"panel\">\n",
      "            <div aria-label=\"手機版選單標頭\" class=\"menu-head\">\n",
      "            </div>\n",
      "            <nav aria-label=\"手機版選單\" id=\"mob-nav\">\n",
      "            </nav>\n",
      "           </div>\n",
      "          </div>\n",
      "         </li>\n",
      "        </ul>\n",
      "        <nav id=\"mega\">\n",
      "         <ul>\n",
      "          <li>\n",
      "           <a>\n",
      "            關於證交所\n",
      "           </a>\n",
      "          </li>\n",
      "          <li>\n",
      "           <a>\n",
      "            交易資訊\n",
      "           </a>\n",
      "          </li>\n",
      "          <li>\n",
      "           <a>\n",
      "            指數資訊\n",
      "           </a>\n",
      "          </li>\n",
      "          <li>\n",
      "           <a>\n",
      "            上市公司\n",
      "           </a>\n",
      "          </li>\n",
      "          <li>\n",
      "           <a>\n",
      "            產品與服務\n",
      "           </a>\n",
      "          </li>\n",
      "          <li>\n",
      "           <a>\n",
      "            結算服務\n",
      "           </a>\n",
      "          </li>\n",
      "          <li>\n",
      "           <a>\n",
      "            市場公告\n",
      "           </a>\n",
      "          </li>\n",
      "          <li>\n",
      "           <a>\n",
      "            法令規章\n",
      "           </a>\n",
      "          </li>\n",
      "         </ul>\n",
      "        </nav>\n",
      "        <script type=\"text/javascript\">\n",
      "         var _id=function(e){return document.getElementById(e)},_fs=localStorage.getItem(\"page-font-size\")||\"size-M\";_id(_fs).checked=!0,_id(\"layout\").classList.add(_fs);\n",
      "        </script>\n",
      "        <div id=\"body\">\n",
      "         <div id=\"vision\">\n",
      "          <h2>\n",
      "          </h2>\n",
      "         </div>\n",
      "         <div class=\"container\">\n",
      "          <aside aria-label=\"側邊導覽\" class=\"skeleton-loading\" id=\"sidebar\">\n",
      "           <a accesskey=\"L\" href=\"#U\" title=\"側欄區 (Alt-L)\">\n",
      "            :::\n",
      "           </a>\n",
      "           <section>\n",
      "            <button class=\"main-menu\" role=\"button\" title=\"切換成主選單\">\n",
      "             主選單\n",
      "            </button>\n",
      "            <header>\n",
      "            </header>\n",
      "            <nav role=\"navigation\">\n",
      "             <ul>\n",
      "              <li>\n",
      "              </li>\n",
      "              <li>\n",
      "              </li>\n",
      "              <li>\n",
      "              </li>\n",
      "             </ul>\n",
      "            </nav>\n",
      "           </section>\n",
      "          </aside>\n",
      "          <main>\n",
      "           <a accesskey=\"C\" href=\"#C\" title=\"正文區 (Alt-C)\">\n",
      "            :::\n",
      "           </a>\n",
      "           <div id=\"crumbs\">\n",
      "           </div>\n",
      "           <h2 class=\"document-style\">\n",
      "            國內成分股ETF\n",
      "           </h2>\n",
      "           <ol>\n",
      "            <li>\n",
      "             國內證券投資信託事業依據「證券投資信託基金管理辦法」募集發行，且標的指數成分全為國內證券之ETF。\n",
      "            </li>\n",
      "            <li>\n",
      "             投資人要注意的風險為\n",
      "             <a href=\"../overview/introduction.html#02\">\n",
      "              一般投資風險\n",
      "             </a>\n",
      "             ，包含可能有市場風險、集中度風險、流動性風險、折溢價風險、追蹤誤差風險及終止上市風險。\n",
      "            </li>\n",
      "           </ol>\n",
      "           <form data-api=\"/ETF/domestic\" id=\"form\">\n",
      "           </form>\n",
      "           <div id=\"reports\">\n",
      "            <div class=\"main-content\">\n",
      "             <div class=\"rwd-table clickable F1 L2_\">\n",
      "             </div>\n",
      "            </div>\n",
      "            <div class=\"rwd-notes\">\n",
      "            </div>\n",
      "           </div>\n",
      "          </main>\n",
      "         </div>\n",
      "        </div>\n",
      "        <footer id=\"footer\">\n",
      "         <div class=\"container\">\n",
      "          <a accesskey=\"B\" href=\"#B\" title=\"頁腳區 (Alt-B)\">\n",
      "           :::\n",
      "          </a>\n",
      "          <div class=\"cis\">\n",
      "           <a class=\"logo\" href=\"/zh/index.html\" title=\"臺灣證券交易所\">\n",
      "            <div class=\"twse-logo\">\n",
      "             <i aria-hidden=\"true\">\n",
      "             </i>\n",
      "             <span>\n",
      "              TWSE\n",
      "             </span>\n",
      "            </div>\n",
      "           </a>\n",
      "          </div>\n",
      "          <div class=\"info\">\n",
      "           <ul class=\"terms\">\n",
      "            <li>\n",
      "             <a href=\"//reportingbox.twse.com.tw/POP30\" target=\"_blank\">\n",
      "              聯絡我們\n",
      "             </a>\n",
      "            </li>\n",
      "            <li>\n",
      "             <a href=\"/zh/terms/subscribe.html\">\n",
      "              訂閱電子報\n",
      "             </a>\n",
      "            </li>\n",
      "            <li>\n",
      "             <a href=\"/zh/sitemap.html\">\n",
      "              網站地圖\n",
      "             </a>\n",
      "            </li>\n",
      "            <li>\n",
      "             <a href=\"/zh/terms/use.html\">\n",
      "              使用條款\n",
      "             </a>\n",
      "            </li>\n",
      "            <li>\n",
      "             <a href=\"/zh/terms/privacy.html\">\n",
      "              隱私權保護說明\n",
      "             </a>\n",
      "            </li>\n",
      "            <li>\n",
      "             <a href=\"/zh/terms/personal.html\">\n",
      "              個人資料管理政策聲明\n",
      "             </a>\n",
      "            </li>\n",
      "            <li>\n",
      "             <a href=\"/zh/terms/security.html\">\n",
      "              資訊安全政策\n",
      "             </a>\n",
      "            </li>\n",
      "            <li>\n",
      "             <a href=\"/zh/terms/BCMS.html\">\n",
      "              營運持續政策\n",
      "             </a>\n",
      "            </li>\n",
      "            <li>\n",
      "             <a href=\"/zh/terms/anti-harassment.html\">\n",
      "              性騷擾防治專區\n",
      "             </a>\n",
      "            </li>\n",
      "           </ul>\n",
      "           <div class=\"contact\">\n",
      "            地址：110615 台北市信義路五段7號\n",
      "            <span>\n",
      "             3樓、9至12樓、19樓\n",
      "            </span>\n",
      "            <span>\n",
      "             電話：(02)8101-3101\n",
      "            </span>\n",
      "            <br/>\n",
      "            <span>\n",
      "             投資人服務中心專線：(02)2792-8188\n",
      "            </span>\n",
      "           </div>\n",
      "           <div class=\"copyright\">\n",
      "            <a href=\"/zh/products/information/list.html\">\n",
      "             本公司簽約資訊公司\n",
      "            </a>\n",
      "            亦提供相關資訊\n",
      "           </div>\n",
      "           <div class=\"copyright\">\n",
      "            Copyright ©\n",
      "            <span class=\"year\">\n",
      "             2023\n",
      "            </span>\n",
      "            Taiwan Stock Exchange Corporation. All rights reserved.\n",
      "           </div>\n",
      "          </div>\n",
      "          <ul class=\"social\">\n",
      "           <li>\n",
      "            <a class=\"fb\" href=\"//www.facebook.com/TaiwanStockExchangeCorp/\" target=\"_blank\" title=\"在新視窗開啟：臺灣證券交易所 Facebook 粉絲專頁\">\n",
      "             Facebook\n",
      "            </a>\n",
      "           </li>\n",
      "           <li>\n",
      "            <a class=\"yt\" href=\"//www.youtube.com/channel/UCb_JzqaWz4Dw1OScrDpGxrg\" target=\"_blank\" title=\"在新視窗開啟：臺灣證券交易所 YouTube 頻道\">\n",
      "             Youtube\n",
      "            </a>\n",
      "           </li>\n",
      "           <li>\n",
      "            <a class=\"rss\" href=\"/zh/terms/rss.html\" title=\"RSS介紹\">\n",
      "             RSS\n",
      "            </a>\n",
      "           </li>\n",
      "          </ul>\n",
      "         </div>\n",
      "        </footer>\n",
      "        <a href=\"#\" id=\"scroll-to-top\" title=\"捲動至頂\">\n",
      "         Top\n",
      "        </a>\n",
      "       </div>\n",
      "       <script nomodule=\"\" src=\"/res/lib/ie-hints.min.js\" type=\"text/javascript\">\n",
      "       </script>\n",
      "       <script src=\"/res/js/main.js\" type=\"text/javascript\">\n",
      "       </script>\n",
      "       <script src=\"/res/js/web.js\" type=\"text/javascript\">\n",
      "       </script>\n",
      "       <script src=\"/res/js/web-report.js\" type=\"text/javascript\">\n",
      "       </script>\n",
      "       <script type=\"text/javascript\">\n",
      "        function jsonDecoration(e){delete e?.title,e.fields.pop(),e.data.forEach((e=>{e[1]=e[1].replace(/\\n/g,\"<br>\")+`<small>${e[2]}</small>`,e[0]=e[0].replace(/\\n/g,\"<br>\").replace(/(00[A-Z0-9]{2,})/g,'<a target=\"_blank\" href=\"content.html?$1#domestic\">$1</a>'),e.pop()}))}\n",
      "       </script>\n",
      "      </li>\n",
      "     </ul>\n",
      "    </div>\n",
      "   </header>\n",
      "  </div>\n",
      " </body>\n",
      "</html>\n",
      "\n"
     ]
    }
   ],
   "source": [
    "from bs4 import BeautifulSoup\n",
    "\n",
    "# 上市清單\n",
    "# url = \"https://www.twse.com.tw/zh/products/securities/etf/products/list.html\"\n",
    "# 國內成分股ETF\n",
    "url = \"https://www.twse.com.tw/zh/products/securities/etf/products/domestic.html\"\n",
    "# 國外成分股ETF(含連結式ETF)\n",
    "# url = \"https://www.twse.com.tw/zh/products/securities/etf/products/foreign.html\"\n",
    "payload = {\n",
    "}\n",
    "resp = requests.get(url, params=payload)\n",
    "bs = BeautifulSoup(resp.content)\n",
    "print(bs.prettify())"
   ]
  },
  {
   "cell_type": "code",
   "execution_count": 74,
   "id": "8665ba89-2362-4126-8160-476439912ada",
   "metadata": {},
   "outputs": [
    {
     "name": "stdout",
     "output_type": "stream",
     "text": [
      "200\n"
     ]
    }
   ],
   "source": [
    "import sys, os\n",
    "\n",
    "path = \"./token\"\n",
    "with open(path, \"r\") as fp:\n",
    "    contain = fp.read()\n",
    "    print(len(contain))"
   ]
  },
  {
   "cell_type": "code",
   "execution_count": 58,
   "id": "023a26a3-d775-44eb-b4cd-32db05536440",
   "metadata": {},
   "outputs": [
    {
     "name": "stdout",
     "output_type": "stream",
     "text": [
      "Help on built-in function open in module posix:\n",
      "\n",
      "open(path, flags, mode=511, *, dir_fd=None)\n",
      "    Open a file for low level IO.  Returns a file descriptor (integer).\n",
      "\n",
      "    If dir_fd is not None, it should be a file descriptor open to a directory,\n",
      "      and path should be relative; path will then be relative to that directory.\n",
      "    dir_fd may not be implemented on your platform.\n",
      "      If it is unavailable, using it will raise a NotImplementedError.\n",
      "\n"
     ]
    }
   ],
   "source": [
    "help(os.open)"
   ]
  },
  {
   "cell_type": "code",
   "execution_count": null,
   "id": "f404f5f1-a731-4c12-b6ae-38f9e5f93119",
   "metadata": {},
   "outputs": [],
   "source": []
  }
 ],
 "metadata": {
  "kernelspec": {
   "display_name": "Python 3 (ipykernel)",
   "language": "python",
   "name": "python3"
  },
  "language_info": {
   "codemirror_mode": {
    "name": "ipython",
    "version": 3
   },
   "file_extension": ".py",
   "mimetype": "text/x-python",
   "name": "python",
   "nbconvert_exporter": "python",
   "pygments_lexer": "ipython3",
   "version": "3.12.5"
  }
 },
 "nbformat": 4,
 "nbformat_minor": 5
}
